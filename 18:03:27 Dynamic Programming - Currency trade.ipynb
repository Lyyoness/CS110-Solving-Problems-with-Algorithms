{
 "cells": [
  {
   "cell_type": "markdown",
   "metadata": {},
   "source": [
    "## Currency Trading"
   ]
  },
  {
   "cell_type": "markdown",
   "metadata": {},
   "source": [
    "Imagine that you wish to exchange one currency for another. You realize that instead of directly exchanging one currency for another, you might be better off making a series of trades through other currencies, winding up with the currency you want. Suppose that you can trade n different currencies, numbered 1,2,… ,*n*, where you start with currency 1 and wish to wind up with currency n. You are given, for each pair of currencies *i* and *j* , an exchange rate *rij* , meaning that if you start with *d* units of currency *i* , you can trade for *drij* units of currency *j*.\n",
    "\n",
    "1. Assuming there is no commission, write python code to solve this problem.\n",
    "1. Look up the exchange rates for 3-4 currencies online. What solution does your code find?\n",
    "\n",
    "Here is some example data:\n",
    "\n",
    "`USD 1 0.741 0.657 1.061 1.00`\n",
    "\n",
    "`EUR 1.349 1 0.888 1.433 1.366`\n",
    "\n",
    "`GBP 1.521 1.126 1 1.614 1.538`\n",
    "\n",
    "`CHF 0.942 0.698 0.619 1 0.953`\n",
    "\n",
    "`CAD 0.995 0.732 0.650 1.049 1`"
   ]
  },
  {
   "cell_type": "code",
   "execution_count": 72,
   "metadata": {
    "collapsed": true
   },
   "outputs": [],
   "source": [
    "# Python program for Bellman-Ford's single source \n",
    "# shortest path algorithm.\n",
    " \n",
    "from collections import defaultdict\n",
    " \n",
    "#Class to represent a graph\n",
    "class Graph:\n",
    " \n",
    "    def __init__(self,vertices):\n",
    "        self.V= vertices #No. of vertices\n",
    "        self.graph = [] # default dictionary to store graph\n",
    "  \n",
    "    # function to add an edge to graph\n",
    "    def addEdge(self,u,v,w):\n",
    "        self.graph.append([u, v, w])\n",
    "         \n",
    "    # utility function used to print the solution\n",
    "    def printArr(self, dist):\n",
    "        print(\"Vertex   Distance from Source\")\n",
    "        for i in range(self.V):\n",
    "            print(\"%f \\t\\t %f\" % (i, dist[i]))\n",
    "     \n",
    "    # The main function that finds shortest distances from src to\n",
    "    # all other vertices using Bellman-Ford algorithm.  The function\n",
    "    # also detects negative weight cycle\n",
    "    def BellmanFord(self, src):\n",
    " \n",
    "        # Step 1: Initialize distances from src to all other vertices\n",
    "        # as INFINITE\n",
    "        dist = [float(\"Inf\")] * self.V\n",
    "        dist[src] = 0\n",
    " \n",
    " \n",
    "        # Step 2: Relax all edges |V| - 1 times. A simple shortest \n",
    "        # path from src to any other vertex can have at-most |V| - 1 \n",
    "        # edges\n",
    "        for i in range(self.V - 1):\n",
    "            # Update dist value and parent index of the adjacent vertices of\n",
    "            # the picked vertex. Consider only those vertices which are still in\n",
    "            # queue\n",
    "            for u, v, w in self.graph:\n",
    "                if dist[u] != float(\"Inf\") and dist[u] * float(w) < dist[v]:\n",
    "                        dist[v] = dist[u] * float(w)\n",
    " \n",
    "        # Step 3: check for negative-weight cycles.  The above step \n",
    "        # guarantees shortest distances if graph doesn't contain \n",
    "        # negative weight cycle.  If we get a shorter path, then there\n",
    "        # is a cycle.\n",
    " \n",
    "        for u, v, w in self.graph:\n",
    "                if dist[u] != float(\"Inf\") and dist[u] * float(w) < dist[v]:\n",
    "                        print \"Graph contains negative weight cycle\"\n",
    "                        return\n",
    "                         \n",
    "        # print all distance\n",
    "        self.printArr(dist)"
   ]
  },
  {
   "cell_type": "code",
   "execution_count": 73,
   "metadata": {},
   "outputs": [
    {
     "name": "stdout",
     "output_type": "stream",
     "text": [
      "Vertex   Distance from Source\n",
      "0.000000 \t\t 0.000000\n",
      "1.000000 \t\t 0.000000\n",
      "2.000000 \t\t 0.000000\n"
     ]
    }
   ],
   "source": [
    "peter = Graph(3)\n",
    "\"\"\"\n",
    "0 = USD\n",
    "1 = EUR\n",
    "2 = GBP\n",
    "\"\"\"\n",
    "\n",
    "peter.addEdge(0, 1, 0.741)\n",
    "peter.addEdge(0, 2, 0.657)\n",
    "peter.addEdge(1, 0, 1.349)\n",
    "peter.addEdge(1, 2, 0.888)\n",
    "peter.addEdge(2, 0, 1.521)\n",
    "peter.addEdge(2, 1, 1.126)\n",
    "\n",
    "peter.BellmanFord(0)\n"
   ]
  },
  {
   "cell_type": "markdown",
   "metadata": {},
   "source": [
    "## Optimal Strategy for the Money Game"
   ]
  },
  {
   "cell_type": "markdown",
   "metadata": {},
   "source": [
    "Consider a row of n coins of values v(1) ... v(n), where n is even. We play a game against an opponent by alternating turns. In each turn, a player selects either the first or last coin from the row, removes it from the row permanently, and receives the value of the coin. Determine the maximum possible amount of money we can definitely win if we move first.\n",
    "\n",
    "For example, the game:\n",
    "\n",
    "    $2, $10, $1, $5\n",
    "\n",
    "By moving first and playing optimally one can be guaranteed of 15. The first move is to take 5. This forces your opponent to take either 2 or 1, and then allows you to take 10."
   ]
  },
  {
   "cell_type": "markdown",
   "metadata": {},
   "source": [
    "#### Possibility 1: Opponent picks randomly"
   ]
  },
  {
   "cell_type": "code",
   "execution_count": 53,
   "metadata": {
    "collapsed": true
   },
   "outputs": [],
   "source": [
    "import random\n",
    "\n",
    "def money_game(prices):\n",
    "    \"\"\"\n",
    "    Assumes either that my opponent picks randomly from the\n",
    "    front or back of the line, not trying to maximize\n",
    "    his gains or has the same maximization strategy as I do.\n",
    "    Assumes an even number of prices.\n",
    "    \"\"\"\n",
    "    p1_price, p2_price = 0, 0\n",
    "    for i in range(len(prices)/2):\n",
    "        prices, p1_price = player_1_pick(prices, p1_price)\n",
    "        \n",
    "        # Player 2 can either pick randomly or max.\n",
    "#         prices, p2_price = player_2_pick_random(prices, p2_price)\n",
    "        prices, p2_price = player_2_pick_max(prices, p2_price)\n",
    "\n",
    "    print \"Player 1 wins %d Dollars!\" %p1_price\n",
    "    print \"Player 2 wins %d Dollars!\" %p2_price\n",
    "    \n",
    "    \n",
    "def player_1_pick(array, money):\n",
    "    if array[0] >= array[-1]:\n",
    "        money += array.pop(0)\n",
    "    else: money += array.pop(-1)\n",
    "    return array, money\n",
    "\n",
    "def player_2_pick_max(array, money):\n",
    "    array, money = player_1_pick(array, money)\n",
    "    return array, money\n",
    "    \n",
    "def player_2_pick_random(array, money):\n",
    "    money += array.pop(random.choice([0, -1]))\n",
    "    return array, money"
   ]
  },
  {
   "cell_type": "code",
   "execution_count": 54,
   "metadata": {},
   "outputs": [
    {
     "name": "stdout",
     "output_type": "stream",
     "text": [
      "Player 1 wins 9 Dollars!\n",
      "Player 2 wins 16 Dollars!\n"
     ]
    }
   ],
   "source": [
    "prices = [2, 10, 1, 5, 6, 1]\n",
    "money_game(prices)"
   ]
  }
 ],
 "metadata": {
  "kernelspec": {
   "display_name": "Python 2",
   "language": "python",
   "name": "python2"
  },
  "language_info": {
   "codemirror_mode": {
    "name": "ipython",
    "version": 2
   },
   "file_extension": ".py",
   "mimetype": "text/x-python",
   "name": "python",
   "nbconvert_exporter": "python",
   "pygments_lexer": "ipython2",
   "version": "2.7.14"
  }
 },
 "nbformat": 4,
 "nbformat_minor": 2
}
