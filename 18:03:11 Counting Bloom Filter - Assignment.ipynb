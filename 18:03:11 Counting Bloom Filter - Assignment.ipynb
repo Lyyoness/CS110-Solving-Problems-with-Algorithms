{
 "cells": [
  {
   "cell_type": "markdown",
   "metadata": {},
   "source": [
    "<center><h2> ** Bloom Filters **\n",
    "\n",
    "<center> for Airline Website Access Tracking\n",
    "***"
   ]
  },
  {
   "cell_type": "markdown",
   "metadata": {},
   "source": [
    "<center><h3> Introduction to Counting Bloom Filters"
   ]
  },
  {
   "cell_type": "markdown",
   "metadata": {},
   "source": [
    "As a probabilistic data structure Bloom filters allow rapid look-up of the existence of a certain element, with the chance of false positives decreasing as the number of hash functions used increases. Membership tags are stored in binary format in a bit vector, making Bloom filters extremely memory efficient.\n",
    "\n",
    "Bloom filters support **add** and **query** in O(k) times, where k is the number of hash functions used. Query will sometimes return false positives (aka. \"item might be in set\"), but never false negatives (aka. \"item might not be in set\").\n",
    "\n",
    "This implementation concerns itself with Counting Bloom Filters in particular. One scenario in which Bloom Filters might be useful is for airlines to determine how often a particular flight has been accessed on their website. This is usually used as a proxy for desirability of the flight and the more desirable the flight, the higher the price the airline can charge. This is also the reason why looking up a certain flight multiple times within a short period might lead to increased prices all of a sudden.\n",
    "\n",
    "To be able to not only see *if* a flight has been accessed, but also *how often*, a Counting Bloom Filter can be used. The **add** operation now increments a count for every time the object has been added. In addition to **add** and **query**, Counting Bloom Filters also support a **delete** operation in the same time, as it is just the inverse of incrementing the access counter for a certain object. Additionally, my implementation supports a membership check and can return the **count** of how often an item has been accessed (this being the most important operation for our airline website)."
   ]
  },
  {
   "cell_type": "markdown",
   "metadata": {},
   "source": [
    "<center><h3> Drawbacks of Counting Bloom Filters"
   ]
  },
  {
   "cell_type": "markdown",
   "metadata": {},
   "source": [
    "Since the Counting Bloom Filter does not only store single bits of information, but needs to keep track of a numerical counter, it is not quite as memory efficient as the traditional Bloom Filter (on average it takes ~3-4x the memory a normal Bloom Filter uses). To keep this issue to a minimum, we want to ensure that the counters we store don't get larger than the maximum integer able to be stored in a bucket, otherwise we will have to deal with arithmetic spillover.\n",
    "\n",
    "Counting Bloom Filter sizes are set at initialization and cannot easily be changed afterward. To reduce item overlap, we want to know the number of distinct items to be stored in our table beforehand, as to not be confronted with a rapidly growing false positive rate all of a sudden, as we reach maximum capacity."
   ]
  },
  {
   "cell_type": "markdown",
   "metadata": {},
   "source": [
    "<center><h3>Python Code"
   ]
  },
  {
   "cell_type": "code",
   "execution_count": 22,
   "metadata": {
    "collapsed": true
   },
   "outputs": [],
   "source": [
    "import pymmh3 as mmh3\n",
    "import random\n",
    "import string\n",
    "import matplotlib.pyplot as plt\n",
    "from math import log, pow, exp"
   ]
  },
  {
   "cell_type": "code",
   "execution_count": 23,
   "metadata": {
    "collapsed": true
   },
   "outputs": [],
   "source": [
    "def mmhash(key):\n",
    "    return mmh3.hash(key, seed = 1)\n",
    "\n",
    "class CountingBloom:\n",
    "    \n",
    "    def __init__(self, items, k, fp_rate, bits=None):\n",
    "        \"\"\"\n",
    "        Calculates desired array size as a function of k,\n",
    "        number of items to be stored and the desired fp_rate\n",
    "        and ensures that self.bits is assigned a prime number.\n",
    "        \"\"\"\n",
    "        if bits == None:\n",
    "            bits = (- items * k) / log(1 - fp_rate**(1 / float(k)))\n",
    "            bits = int(round(bits))\n",
    "            while not all(bits % i for i in xrange(2, bits)):\n",
    "                bits += 1\n",
    "   \n",
    "        self.bits = bits # number of bits in the array\n",
    "        self.fp_rate = fp_rate \n",
    "        self.k = k # number of hash functions to be used\n",
    "        self.items = 0 # number of items already stored\n",
    "        self.array = [] \n",
    "        self.zero_array()\n",
    "        \n",
    "    def zero_array(self):\n",
    "        \"\"\"\n",
    "        Initializing the array.\n",
    "        \"\"\"\n",
    "        for i in range(0, self.bits):\n",
    "            self.array.append(0)\n",
    "            \n",
    "    def get_hash_indexes(self, key):\n",
    "        \"\"\"\n",
    "        Double hashes the key k times and returns\n",
    "        a list of indexes for the key.\n",
    "        \"\"\"\n",
    "        index_list = []  \n",
    "        for i in range(1, self.k + 1):\n",
    "            index_list.append((hash(key) + i * mmhash(key)) % self.bits)\n",
    "        return index_list\n",
    "    \n",
    "    def add(self, key):\n",
    "        \"\"\"\n",
    "        Takes the k indexes that the hash produces\n",
    "        and increments all of them once. Also increases\n",
    "        total item count.\n",
    "        \"\"\"\n",
    "        for i in self.get_hash_indexes(key):\n",
    "            self.array[i] += 1\n",
    "        self.items += 1\n",
    "        \n",
    "    def remove(self, key):\n",
    "        \"\"\"\n",
    "        Like self.add, but decrements counts instead.\n",
    "        \"\"\"\n",
    "        for i in self.get_hash_indexes(key):\n",
    "            self.array[i] -= 1\n",
    "        self.items -= 1\n",
    "        \n",
    "    def member(self, key):\n",
    "        \"\"\"\n",
    "        Checks if the item in the array exists. \n",
    "        \"\"\"\n",
    "        for i in self.get_hash_indexes(key):\n",
    "            if self.array[i] <= 0:\n",
    "                return False\n",
    "        return True\n",
    "    \n",
    "    def count(self, key):\n",
    "        \"\"\"\n",
    "        Returns lowest count of all k hash indexes. If\n",
    "        keys don't overlap significantly, this should \n",
    "        accurately represent the key count.\n",
    "        \"\"\"\n",
    "        temp_min = self.items\n",
    "        if self.member:\n",
    "            for i in self.get_hash_indexes(key):\n",
    "                if self.array[i] < temp_min:\n",
    "                    temp_min = self.array[i]\n",
    "            return temp_min\n",
    "        else:\n",
    "            return 0      "
   ]
  },
  {
   "cell_type": "code",
   "execution_count": 52,
   "metadata": {},
   "outputs": [
    {
     "name": "stdout",
     "output_type": "stream",
     "text": [
      "Testing the Counting Bloom Filter:\n",
      "__________________________________\n",
      "\n",
      "Your array length is 173 and prime.\n",
      "\n",
      "First test is OK.\n",
      "Second test is OK.\n",
      "Third test is OK.\n",
      "\n",
      "HYDVIE/AA0527 is in the database 7 times.\n",
      "HYDSEL/MA0199 is in the database 4 times.\n",
      "VIESEL/AF2357 is in the database 0 times.\n",
      "\n",
      "Current state of your array:\n",
      "[0, 0, 0, 0, 0, 0, 0, 0, 0, 0, 0, 0, 0, 0, 0, 0, 0, 0, 0, 0, 0, 7, 0, 0, 0, 0, 0, 0, 0, 0, 0, 0, 0, 0, 0, 0, 0, 0, 0, 0, 0, 0, 0, 0, 7, 0, 0, 0, 0, 0, 0, 0, 0, 0, 0, 0, 0, 0, 0, 0, 0, 0, 0, 0, 0, 0, 0, 7, 0, 0, 0, 0, 0, 0, 0, 0, 0, 0, 0, 0, 0, 0, 0, 0, 0, 0, 0, 0, 0, 0, 0, 0, 0, 4, 0, 0, 0, 0, 0, 4, 0, 0, 0, 0, 0, 4, 0, 0, 0, 0, 0, 4, 0, 0, 0, 0, 0, 0, 0, 0, 0, 0, 0, 0, 0, 0, 0, 0, 0, 0, 0, 0, 0, 0, 0, 0, 0, 0, 0, 0, 0, 0, 0, 0, 0, 0, 0, 0, 0, 0, 0, 0, 0, 0, 0, 0, 0, 0, 0, 0, 0, 0, 0, 0, 0, 0, 0, 0, 0, 0, 0, 7, 0]\n"
     ]
    }
   ],
   "source": [
    "def test_bloom():\n",
    "    \"\"\"\n",
    "    Testing function, checks for accurate add, remove and\n",
    "    count (more accurate if flower.bits is a prime length).\n",
    "    \n",
    "    Format of flights would be \"AAABBB/FFXXXX\", where A is\n",
    "    departing airport, B arrival airport, F is the airline\n",
    "    code and X denotes flight number.\n",
    "    \"\"\"\n",
    "    print \"Testing the Counting Bloom Filter:\"\n",
    "    print \"__________________________________\"\n",
    "    flower = CountingBloom(16, 4, 0.01)\n",
    "    if all(flower.bits % i for i in xrange(2, flower.bits)):\n",
    "        print \"\\nYour array length is %d and prime.\\n\" %flower.bits\n",
    "        \n",
    "    for i in range(0,10):\n",
    "        flower.add(\"HYDVIE/AA0527\")\n",
    "    for i in range(0,5):\n",
    "        flower.add(\"HYDSEL/MA0199\")\n",
    "    flower.add(\"VIESEL/AF2357\")    \n",
    "    \n",
    "    for i in range(0,3):\n",
    "        flower.remove(\"HYDVIE/AA0527\")\n",
    "    flower.remove(\"HYDSEL/MA0199\")\n",
    "    flower.remove(\"VIESEL/AF2357\")\n",
    "    \n",
    "    #checking if keys are present and if any overlap in count is created\n",
    "    \n",
    "    if flower.member(\"HYDVIE/AA0527\"):\n",
    "        print \"First test is OK.\"\n",
    "    if flower.member(\"HYDSEL/MA0199\"):\n",
    "        print \"Second test is OK.\"\n",
    "    if not flower.member(\"VIESEL/AF2357\"):\n",
    "        print \"Third test is OK.\\n\"\n",
    "    print \"HYDVIE/AA0527 is in the database %d times.\" %flower.count(\"HYDVIE/AA0527\")\n",
    "    print \"HYDSEL/MA0199 is in the database %d times.\" %flower.count(\"HYDSEL/MA0199\")\n",
    "    print \"VIESEL/AF2357 is in the database %d times.\" %flower.count(\"VIESEL/AF2357\")\n",
    "    \n",
    "    print \"\\nCurrent state of your array:\"\n",
    "    print flower.array\n",
    "    \n",
    "    \n",
    "if __name__ == '__main__':\n",
    "    test_bloom()"
   ]
  },
  {
   "cell_type": "markdown",
   "metadata": {},
   "source": [
    "<center><h3> Potential Improvements"
   ]
  },
  {
   "cell_type": "markdown",
   "metadata": {},
   "source": [
    "If memory space is of large concern, Bonomi et al. (2006) have introduced a data structure that has the same functionality as the Counting Bloom Filter, but uses d-left hashing, essentially reducing the amount of storage necessary by a factor of two.\n",
    "\n",
    "Another, more crucial issue our airline application faces is the fact that Counting Bloom Filters are stable structures and will run out of data storage space eventually. Yet there exists no point in time for an airline at which they can just reset all counters. Grigorik (2010) suggests storing an additional bit of information that is the time stamp of creation and regularly deleting all elements that are older than one year (the regular time from posting to execution of a flight). Redis, for example, has a native expire functionality, that ensures that keys are not stored for longer than a certain amount of time, essentially making our Filter dynamic in nature."
   ]
  },
  {
   "cell_type": "markdown",
   "metadata": {},
   "source": [
    "<center><h3> Hash function"
   ]
  },
  {
   "cell_type": "markdown",
   "metadata": {},
   "source": [
    "This Bloom Filter implementation uses python's built in hash() function and a python implementation of MurmurHash3 (Kihlander, 2016), which are combined into a double hash function. One concern about this is the fact that python's hash() function has an element of randomness to it, that has to be disabled if we want to ensure it hashes consistently.\n",
    "\n",
    "Since the biggest advantage of Bloom filters lies in speed of the look-up and their memory efficiency, our hash function should meet two essential criteria:\n",
    "- independently, uniformly distributed\n",
    "- as fast as possible\n",
    "\n",
    "With a check on the array length being prime and the double hashing, combining two hash functions, we can ensure that the hashes will be roughly uniformly distributed. Additionally, MurmurHash is optimized for speed over encryption, making it ideal for Bloom Filters.  "
   ]
  },
  {
   "cell_type": "markdown",
   "metadata": {},
   "source": [
    "<center><h3> Scaling Behavior"
   ]
  },
  {
   "cell_type": "markdown",
   "metadata": {},
   "source": [
    "Taking the following equation to represent our false positive rate:\n"
   ]
  },
  {
   "cell_type": "markdown",
   "metadata": {},
   "source": [
    "$$\\epsilon = (1-e^{-kn/m})^k$$"
   ]
  },
  {
   "cell_type": "markdown",
   "metadata": {},
   "source": [
    "**Memory size as a function of the false positive rate:** Ceteris paribus, if we want to maintain a constant false positive rate our memory demands will scale logarithmically. Similarly, if we decrease the demand on false positive rate, we can also decrease the amount of memory this demands in a logarithmic manner.\n",
    "\n",
    "**Memory size as a function of the number of items stored:** Once again, all other variables kept equal, the relationship between memory size and items stored can be shown to be linear.\n",
    "\n",
    "** Access time as a function of the false positive rate and the number of items stored:** Access time is independent of false positive rate and the number of items stored *if we assume* that the number of hash functions we use is also constant. If we increase the number of hash functions to decrease our false positive rate, however, this might increase the access time. Generally speaking, access time is O(k), where k denotes the number of hash functions."
   ]
  },
  {
   "cell_type": "markdown",
   "metadata": {},
   "source": [
    "<center><h3> False Positive Rates"
   ]
  },
  {
   "cell_type": "code",
   "execution_count": 54,
   "metadata": {},
   "outputs": [
    {
     "data": {
      "image/png": "[encoded data removed]",
      "text/plain": [
       "<matplotlib.figure.Figure at 0x11a1649d0>"
      ]
     },
     "metadata": {},
     "output_type": "display_data"
    }
   ],
   "source": [
    "items = 250\n",
    "k = 4\n",
    "\n",
    "def plotting(items, k):\n",
    "    fp_rate = 0 #not setting a determined fp_rate\n",
    "    actual_fp = []\n",
    "    bits = items\n",
    "    \n",
    "    elements = range(items)\n",
    "    temp = [(-k*float(x))/items for x in elements] # circumventing a floating point issue\n",
    "    expected_fp = [pow(1.0 - exp(x), k) for x in temp]\n",
    "    \n",
    "    for i in range(items):   \n",
    "        flower = CountingBloom(items, k, fp_rate, bits)\n",
    "\n",
    "        for j in range(i):\n",
    "            flower.add(''.join(random.choice(string.ascii_uppercase + string.digits) for _ in range(13)))\n",
    "\n",
    "        fp_counter = 0\n",
    "        for m in range(items):\n",
    "            if flower.member(''.join(random.choice(string.ascii_uppercase + string.digits) for _ in range(13))):\n",
    "                fp_counter += 1\n",
    "        actual_fp.append((float(fp_counter)/items))                    \n",
    "    \n",
    "    plt.plot(elements,actual_fp, label=\"Actual fp-rate\")\n",
    "    plt.plot(elements,expected_fp, label=\"Expected fp-rate\")\n",
    "    plt.xlabel(\"Number of Elements Inserted\")\n",
    "    plt.ylabel(\"False Positive Rate\")\n",
    "    plt.legend()\n",
    "    plt.show()\n",
    "\n",
    "if __name__ == '__main__':\n",
    "    plotting(items, k)"
   ]
  },
  {
   "cell_type": "markdown",
   "metadata": {},
   "source": [
    "The above figure shows that our implementation roughly follows the expected false positive rate as the number of items in the filter increases and it fills up."
   ]
  },
  {
   "cell_type": "markdown",
   "metadata": {},
   "source": [
    "***\n",
    "\n",
    "<center><h3> Citations\n"
   ]
  },
  {
   "cell_type": "markdown",
   "metadata": {},
   "source": [
    "- Code written in collaboration with Yoav Rabinovich.\n",
    "\n",
    "\n",
    "- Bonomi, F., Mitzenmacher, M., Panigraphy, R., Singh, S. & Varghese, G. (2006). An improved construction for counting Bloom filters. *Springer-Verlag Berlin Heidelberg.* Retrieved from http://theory.stanford.edu/~rinap/papers/esa2006b.pdf\n",
    "\n",
    "\n",
    "- Grigorik, I. (2010, January 10). Flow analysis & time-based Bloom filters. *igvita.com.* Retrieved from https://www.igvita.com/2010/01/06/flow-analysis-time-based-bloom-filters/\n",
    "\n",
    "\n",
    "- Kihlander, F. (2016, May 31). PYMMH3 - a pure python MurmurHash3 implementation. *GitHub repository.* Retrieved from https://github.com/wc-duck/pymmh3\n",
    "\n",
    "\n",
    "- Kirsch, A. & Mitzenmacher, M. (2006). Less hashing, same performance: building a better Bloom filter. *Lecture Notes in Computer Science, vol. 4168. Springer, Berlin, Heidelberg.* Retrieved from https://www.eecs.harvard.edu/~michaelm/postscripts/tr-02-05.pdf\n",
    "\n",
    "\n",
    "- Mill, B. (n.d.). Bloom filters by example. *GitHub repository.* Retrieved from http://llimllib.github.io/bloomfilter-tutorial/\n",
    "\n",
    "\n",
    "- Sharma, N. (2014, December 4). Simple Bloom filters. *GitHub repository.* Retrieved from https://github.com/nitsnwits/simple-bloom-filter\n",
    "\n",
    "\n",
    "\n",
    "- Tarkoma, S., Rothenberg, C. E. & Lagerspetz, E. (2011, April 15). Theory and practice of Bloom filters for distributed systems. *IEEE Communications Surveys & Tutorials.* Retrieved from http://citeseerx.ist.psu.edu/viewdoc/download?doi=10.1.1.457.4228&rep=rep1&type=pdf"
   ]
  }
 ],
 "metadata": {
  "kernelspec": {
   "display_name": "Python 2",
   "language": "python",
   "name": "python2"
  },
  "language_info": {
   "codemirror_mode": {
    "name": "ipython",
    "version": 2
   },
   "file_extension": ".py",
   "mimetype": "text/x-python",
   "name": "python",
   "nbconvert_exporter": "python",
   "pygments_lexer": "ipython2",
   "version": "2.7.14"
  }
 },
 "nbformat": 4,
 "nbformat_minor": 2
}
