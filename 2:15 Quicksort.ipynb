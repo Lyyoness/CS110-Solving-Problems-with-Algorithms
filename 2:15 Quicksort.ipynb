{
 "cells": [
  {
   "cell_type": "code",
   "execution_count": 1,
   "metadata": {
    "collapsed": true
   },
   "outputs": [],
   "source": [
    "import random\n",
    "import timeit"
   ]
  },
  {
   "cell_type": "code",
   "execution_count": 2,
   "metadata": {
    "collapsed": true
   },
   "outputs": [],
   "source": [
    "def quicksort(array, low, high):\n",
    "    \n",
    "    # if we reached end of section\n",
    "    if low < high:\n",
    "        \n",
    "        part_index = partition_last_elem(array, low, high)\n",
    "        \n",
    "        # sort the rest of the array recursively\n",
    "        # and in place\n",
    "        quicksort(array, low, part_index - 1)\n",
    "        quicksort(array, part_index + 1, high)\n",
    "        \n",
    "    return array\n",
    "    "
   ]
  },
  {
   "cell_type": "code",
   "execution_count": 15,
   "metadata": {},
   "outputs": [
    {
     "data": {
      "text/plain": [
       "[1, 2, 3, 3, 4, 5, 6, 7, 8, 9, 12, 21, 22, 34, 44]"
      ]
     },
     "execution_count": 15,
     "metadata": {},
     "output_type": "execute_result"
    }
   ],
   "source": [
    "def median(low, mid, high, array):\n",
    "    x1 = array[low]\n",
    "    x2 = array[mid]\n",
    "    x3 = array[high]\n",
    "    \n",
    "    for a in range(7):\n",
    "        if x1 <= x2 <= x3:\n",
    "            if x2 == array[low]:\n",
    "                return low\n",
    "            elif x2 == array[mid]:\n",
    "                return mid\n",
    "            else:\n",
    "                return high\n",
    "        # Every loop I'm shufflin\n",
    "        (x1, x2, x3) = (x2, x1, x3)\n",
    "        if a % 2:\n",
    "            (x1, x2, x3) = (x3, x1, x2)\n",
    "\n",
    "def rand_quicksort(array, low, high):\n",
    "    random.shuffle(array)\n",
    "    # if we reached end of section\n",
    "    if low < high:\n",
    "        \n",
    "        part_index = partition_last_elem(array, low, high)\n",
    "        \n",
    "        # sort the rest of the array recursively\n",
    "        # and in place\n",
    "        quicksort(array, low, part_index - 1)\n",
    "        quicksort(array, part_index + 1, high)\n",
    "        \n",
    "    return array\n",
    "\n",
    "rand_test_array = [3, 2, 3, 5, 7, 8, 22, 1, 12, 4, 6, 9, 34, 44, 21]\n",
    "rand_quicksort(rand_test_array, 0, (len(rand_test_array)-1))"
   ]
  },
  {
   "cell_type": "code",
   "execution_count": 14,
   "metadata": {
    "collapsed": true
   },
   "outputs": [],
   "source": [
    "def partition_last_elem(array, low, high):\n",
    "    \n",
    "    # picks pivot and if that lies within the array\n",
    "    # it swaps it for the first element before continuing\n",
    "    mid = len(array)/2\n",
    "    pivot_index = median(low, mid, high, array)\n",
    "    \n",
    "    if pivot_index != high:\n",
    "        array[high], array[pivot_index] = array[pivot_index], array[high]\n",
    "    \n",
    "    pivot = array[high]\n",
    "    i = low - 1\n",
    "    \n",
    "    for j in range(low, high):\n",
    "        \n",
    "        # if current item is smaller than or equal\n",
    "        # to pivot (last value), swap them & increment i\n",
    "        if array[j] <= pivot:\n",
    "            i += 1\n",
    "            array[i], array[j] = array[j], array[i]\n",
    "            \n",
    "    array[i + 1], array[high] = array[high], array[i + 1]\n",
    "    return i + 1"
   ]
  },
  {
   "cell_type": "code",
   "execution_count": 50,
   "metadata": {
    "collapsed": true
   },
   "outputs": [],
   "source": [
    "def fib(n):\n",
    "    if n <= 0:\n",
    "        return 0\n",
    "    \n",
    "    if n == 1:\n",
    "        return 1\n",
    "    \n",
    "    return fib(n-1) + fib(n-2)"
   ]
  },
  {
   "cell_type": "code",
   "execution_count": 52,
   "metadata": {},
   "outputs": [
    {
     "name": "stdout",
     "output_type": "stream",
     "text": [
      "Average quicksort runtime on a reversed list over 30 trials: 1.15647675991\n",
      "Average quicksort runtime on an ordered list over 30 trials: 1.91352689266\n",
      "Average quicksort runtime on a random list over 30 trials: 0.0453058719635\n"
     ]
    }
   ],
   "source": [
    "lst1 = [random.random() for a in range(900)]\n",
    "lst2 = range(900)\n",
    "lst3 = lst2[::-1]\n",
    "\n",
    "n1 = len(lst1)\n",
    "n2 = len(lst2)\n",
    "\n",
    "def quicksort_timing_reverse():\n",
    "    quicksort(lst3[:], 0, n1 - 1)\n",
    "    \n",
    "def quicksort_timing_ordered():\n",
    "    quicksort(lst2[:], 0, n1 - 1)\n",
    "    \n",
    "def quicksort_timing_random():\n",
    "    quicksort(lst1[:], 0, n1 - 1)\n",
    "    \n",
    "    \n",
    "def fib_timer():\n",
    "    fib(10)\n",
    "    \n",
    "reverse_time = timeit.timeit(quicksort_timing_reverse, number=30)  \n",
    "ordered_time = timeit.timeit(quicksort_timing_ordered, number=30)\n",
    "random_time = timeit.timeit(quicksort_timing_random, number=30)\n",
    "# fib_time = timeit.timeit(fib_timer, number=5)\n",
    "    \n",
    "print \"Average quicksort runtime on a reversed list over 30 trials: \" + str(reverse_time / 30)\n",
    "print \"Average quicksort runtime on an ordered list over 30 trials: \" + str(ordered_time / 30)\n",
    "print \"Average quicksort runtime on a random list over 30 trials: \" + str(random_time / 30)\n",
    "\n",
    "# print \"Average fibonacci runtime over 30 trials: \" + str(fib_time)"
   ]
  },
  {
   "cell_type": "code",
   "execution_count": 39,
   "metadata": {},
   "outputs": [
    {
     "name": "stdout",
     "output_type": "stream",
     "text": [
      "202050 404550\n"
     ]
    }
   ],
   "source": [
    "_, reverse_swaps = quicksort(lst3[:], 0, n1 - 1)\n",
    "_, ordered_swaps = quicksort(lst2[:], 0, n1 - 1)\n",
    "\n",
    "print reverse_swaps, ordered_swaps"
   ]
  },
  {
   "cell_type": "code",
   "execution_count": 47,
   "metadata": {},
   "outputs": [
    {
     "name": "stdout",
     "output_type": "stream",
     "text": [
      "('Swapping!', 0, 0, 0, 0, 9)\n",
      "('Swapping!', 1, 1, 1, 1, 9)\n",
      "('Swapping!', 2, 2, 2, 2, 9)\n",
      "('Swapping!', 3, 3, 3, 3, 9)\n",
      "('Swapping!', 4, 4, 4, 4, 9)\n",
      "('Swapping!', 5, 5, 5, 5, 9)\n",
      "('Swapping!', 6, 6, 6, 6, 9)\n",
      "('Swapping!', 7, 7, 7, 7, 9)\n",
      "('Swapping!', 8, 8, 8, 8, 9)\n",
      "0 8 10 9\n",
      "('Swapping!', 0, 0, 0, 0, 8)\n",
      "('Swapping!', 1, 1, 1, 1, 8)\n",
      "('Swapping!', 2, 2, 2, 2, 8)\n",
      "('Swapping!', 3, 3, 3, 3, 8)\n",
      "('Swapping!', 4, 4, 4, 4, 8)\n",
      "('Swapping!', 5, 5, 5, 5, 8)\n",
      "('Swapping!', 6, 6, 6, 6, 8)\n",
      "('Swapping!', 7, 7, 7, 7, 8)\n",
      "0 7 9 8\n",
      "('Swapping!', 0, 0, 0, 0, 7)\n",
      "('Swapping!', 1, 1, 1, 1, 7)\n",
      "('Swapping!', 2, 2, 2, 2, 7)\n",
      "('Swapping!', 3, 3, 3, 3, 7)\n",
      "('Swapping!', 4, 4, 4, 4, 7)\n",
      "('Swapping!', 5, 5, 5, 5, 7)\n",
      "('Swapping!', 6, 6, 6, 6, 7)\n",
      "0 6 8 7\n",
      "('Swapping!', 0, 0, 0, 0, 6)\n",
      "('Swapping!', 1, 1, 1, 1, 6)\n",
      "('Swapping!', 2, 2, 2, 2, 6)\n",
      "('Swapping!', 3, 3, 3, 3, 6)\n",
      "('Swapping!', 4, 4, 4, 4, 6)\n",
      "('Swapping!', 5, 5, 5, 5, 6)\n",
      "0 5 7 6\n",
      "('Swapping!', 0, 0, 0, 0, 5)\n",
      "('Swapping!', 1, 1, 1, 1, 5)\n",
      "('Swapping!', 2, 2, 2, 2, 5)\n",
      "('Swapping!', 3, 3, 3, 3, 5)\n",
      "('Swapping!', 4, 4, 4, 4, 5)\n",
      "0 4 6 5\n",
      "('Swapping!', 0, 0, 0, 0, 4)\n",
      "('Swapping!', 1, 1, 1, 1, 4)\n",
      "('Swapping!', 2, 2, 2, 2, 4)\n",
      "('Swapping!', 3, 3, 3, 3, 4)\n",
      "0 3 5 4\n",
      "('Swapping!', 0, 0, 0, 0, 3)\n",
      "('Swapping!', 1, 1, 1, 1, 3)\n",
      "('Swapping!', 2, 2, 2, 2, 3)\n",
      "0 2 4 3\n",
      "('Swapping!', 0, 0, 0, 0, 2)\n",
      "('Swapping!', 1, 1, 1, 1, 2)\n",
      "0 1 3 2\n",
      "('Swapping!', 0, 0, 0, 0, 1)\n",
      "0 0 2 1\n"
     ]
    },
    {
     "data": {
      "text/plain": [
       "([0, 1, 2, 3, 4, 5, 6, 7, 8, 9], 45)"
      ]
     },
     "execution_count": 47,
     "metadata": {},
     "output_type": "execute_result"
    }
   ],
   "source": [
    "import timeit\n",
    "import random\n",
    "\n",
    "eps = 1e-16\n",
    "N = 10000\n",
    "locations = [0.0, 0.5, 1.0 - eps]\n",
    "\n",
    "\n",
    "def median(x1, x2, x3):\n",
    "    for a in range(7):\n",
    "        if x1 <= x2 <= x3:\n",
    "            return x2\n",
    "        # Every loop I'm shufflin\n",
    "        (x1, x2, x3) = (x2, x1, x3)\n",
    "        if a % 2:\n",
    "            (x1, x2, x3) = (x3, x1, x2)\n",
    "\n",
    "\n",
    "def qsort(lst):\n",
    "    indices = [(0, len(lst))]\n",
    "\n",
    "    while indices:\n",
    "        (frm, to) = indices.pop()\n",
    "        if frm == to:\n",
    "            continue\n",
    "\n",
    "        # Find the partition:\n",
    "        N = to - frm\n",
    "        inds = [frm + int(N * n) for n in locations]\n",
    "        values = [lst[ind] for ind in inds]\n",
    "        partition = median(*values)\n",
    "\n",
    "        # Split into lists:\n",
    "        lower = [a for a in lst[frm:to] if a < partition]\n",
    "        upper = [a for a in lst[frm:to] if a > partition]\n",
    "        counts = sum([1 for a in lst[frm:to] if a == partition])\n",
    "\n",
    "        ind1 = frm + len(lower)\n",
    "        ind2 = ind1 + counts\n",
    "\n",
    "        # Push back into correct place:\n",
    "        lst[frm:ind1] = lower\n",
    "        lst[ind1:ind2] = [partition] * counts\n",
    "        lst[ind2:to] = upper\n",
    "\n",
    "        # Enqueue other locations\n",
    "        indices.append((frm, ind1))\n",
    "        indices.append((ind2, to))\n",
    "    return lst\n",
    "\n",
    "\n",
    "def randomized_quicksort():\n",
    "    lst = range(N)\n",
    "    random.shuffle(lst)\n",
    "    return qsort(lst)\n",
    "\n",
    "\n",
    "def test_quicksort():\n",
    "    lst = randomized_quicksort()\n",
    "    assert (lst == range(N))\n",
    "\n",
    "\n",
    "# Is our algorithm correct\n",
    "test_quicksort()\n",
    "\n",
    "# How fast is our algorithm\n",
    "print timeit.timeit(randomized_quicksort, number=1)"
   ]
  },
  {
   "cell_type": "code",
   "execution_count": null,
   "metadata": {
    "collapsed": true
   },
   "outputs": [],
   "source": []
  }
 ],
 "metadata": {
  "kernelspec": {
   "display_name": "Python 2",
   "language": "python",
   "name": "python2"
  },
  "language_info": {
   "codemirror_mode": {
    "name": "ipython",
    "version": 2
   },
   "file_extension": ".py",
   "mimetype": "text/x-python",
   "name": "python",
   "nbconvert_exporter": "python",
   "pygments_lexer": "ipython2",
   "version": "2.7.14"
  }
 },
 "nbformat": 4,
 "nbformat_minor": 2
}
