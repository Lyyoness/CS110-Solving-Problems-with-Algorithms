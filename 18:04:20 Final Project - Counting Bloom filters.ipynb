{
 "cells": [
  {
   "cell_type": "markdown",
   "metadata": {},
   "source": [
    "<center><h1> Final Project</center>\n",
    "\n",
    "<center><h3> Set Operations on Counting Bloom Filters for New York Taxi Rides"
   ]
  },
  {
   "cell_type": "markdown",
   "metadata": {},
   "source": [
    "<center>Michelle Hackl\n",
    "\n",
    "<center> CS110\n",
    "\n",
    "<center> Professor Sterne\n",
    "\n",
    "---"
   ]
  },
  {
   "cell_type": "markdown",
   "metadata": {},
   "source": [
    "<center><h2> Introduction"
   ]
  },
  {
   "cell_type": "markdown",
   "metadata": {},
   "source": [
    "In this paper I will be exploring the possibility of applying set operations to two or more Counting Bloom Filter objects to do data queries. Using data from the publicly available New York taxi rides dataset of January 2017, I simulate 4 different taxi companies' rides on a single afternoon. I then use union, intersection and difference operations to query the Bloom Filters and make inferences about the areal overlap between the four companies and what routes were most visited during that time. \n",
    "\n",
    "With the current setup of my Counting Bloom Filter as a bitarray, it is limited to no more than 255 counts in a single slot of the array. Because of the nature of the set operations, subtracting or adding one array to another, I have chosen not to implement a collision function, as this would break the 1-to-1 correspondence between the stored slots for objects in both filters. For the sake of storage, the Counting Bloom Filter could also store values in integer format (as my original code did), but that would greatly reduce the storage benefits for which we chose to use a Bloom Filter in the first place. An explanation of how the set operations work on Counting Bloom Filters follows below."
   ]
  },
  {
   "cell_type": "markdown",
   "metadata": {},
   "source": [
    "---\n",
    "\n",
    "<center> <h2> Counting Bloom Filter\n"
   ]
  },
  {
   "cell_type": "code",
   "execution_count": 1,
   "metadata": {
    "collapsed": true
   },
   "outputs": [],
   "source": [
    "%matplotlib inline\n",
    "%config InlineBackend.print_figure_kwargs={'bbox_inches':None}\n",
    "import sys\n",
    "import random\n",
    "import string\n",
    "import numpy as np\n",
    "import pandas as pd\n",
    "import pymmh3 as mmh3\n",
    "from math import log, pow, exp\n",
    "import matplotlib.pyplot as plt\n",
    "import matplotlib.image as mpimg\n",
    "pd.options.mode.chained_assignment = None"
   ]
  },
  {
   "cell_type": "code",
   "execution_count": 2,
   "metadata": {
    "collapsed": true
   },
   "outputs": [],
   "source": [
    "# Note: This code was partially reused from my previous assignment \n",
    "#       (and modified to include the changes you suggested!)\n",
    "\n",
    "def mmhash(key):\n",
    "    return mmh3.hash(key, seed = 1)\n",
    "\n",
    "\n",
    "class CountingBloom:\n",
    "    \n",
    "    def __init__(self, items, k, fp_rate, set_op=False, bits=None):\n",
    "        \"\"\"\n",
    "        Calculates desired array size as a function of k,\n",
    "        number of items to be stored and the desired fp_rate\n",
    "        and ensures that self.bits is assigned a prime number.\n",
    "        \n",
    "        Note that objects created by the set operations do not\n",
    "        have the correct items count! Hence, by calling the count\n",
    "        function on them later they are identified as such and the\n",
    "        count is calculated from the items in the array directly.\n",
    "        \"\"\"\n",
    "        if bits == None:\n",
    "            bits = (- items * k) / log(1 - fp_rate**(1 / float(k)))\n",
    "            bits = int(round(bits))\n",
    "            while not all(bits % i for i in xrange(2, bits)):\n",
    "                bits += 1\n",
    "   \n",
    "        self.bits = bits # number of bits in the array\n",
    "        self.fp_rate = fp_rate \n",
    "        self.k = k # number of hash functions to be used\n",
    "        self.ideal_items = items\n",
    "        self.set_op = set_op\n",
    "        self.items = 0 # number of items already stored\n",
    "        self.array = [] \n",
    "        self.zero_array()\n",
    "        \n",
    "        \n",
    "    def zero_array(self):\n",
    "        \"\"\"\n",
    "        Initializing the array.\n",
    "        \"\"\"\n",
    "        self.array = bytearray(self.bits)\n",
    "         \n",
    "            \n",
    "    def get_hash_indexes(self, key):\n",
    "        \"\"\"\n",
    "        Double hashes the key k times and returns\n",
    "        a list of indexes for the key.\n",
    "        \"\"\"\n",
    "        index_list = []  \n",
    "        for i in range(1, self.k + 1):\n",
    "            index_list.append((hash(key) + i * mmhash(key)) % self.bits)\n",
    "        return index_list\n",
    "    \n",
    "    \n",
    "    def add(self, key):\n",
    "        \"\"\"\n",
    "        Takes the k indexes that the hash produces\n",
    "        and increments all of them once. Also increases\n",
    "        total item count. If zero_array initializes to \n",
    "        bytearray, only 255 items can be stored per slot.\n",
    "        \"\"\"\n",
    "        for i in self.get_hash_indexes(key):\n",
    "            self.array[i] += 1\n",
    "            if self.array[i] >= 250:\n",
    "                print \"Careful, this array is getting pretty full.\"\n",
    "        self.items += 1\n",
    "        \n",
    "        \n",
    "    def remove(self, key):\n",
    "        \"\"\"\n",
    "        Like self.add, but decrements counts instead.\n",
    "        \"\"\"\n",
    "        for i in self.get_hash_indexes(key):\n",
    "            self.array[i] -= 1\n",
    "        self.items -= 1\n",
    "        \n",
    "        \n",
    "    def member(self, key):\n",
    "        \"\"\"\n",
    "        Checks if the item exists in the array. \n",
    "        \"\"\"\n",
    "        for i in self.get_hash_indexes(key):\n",
    "            if self.array[i] <= 0:\n",
    "                return False\n",
    "        return True\n",
    "    \n",
    "    \n",
    "    def count(self, key):\n",
    "        \"\"\"\n",
    "        Returns lowest count of all k hash indexes. If\n",
    "        keys don't overlap significantly, this should \n",
    "        accurately represent the key count.\n",
    "        \n",
    "        Checks if the object was created by set operations,\n",
    "        and if so, updates its self.items counter to the \n",
    "        correct number and removes the set_op tag.\n",
    "        \"\"\"\n",
    "        if self.set_op == True:\n",
    "            self.items = sum(self.array)/self.k\n",
    "            self.set_op = False\n",
    "        \n",
    "        temp_min = self.bits\n",
    "        if self.member:\n",
    "            for i in self.get_hash_indexes(key):\n",
    "                if self.array[i] < temp_min:\n",
    "                    temp_min = self.array[i]\n",
    "            return temp_min\n",
    "        else:\n",
    "            return 0\n",
    "        "
   ]
  },
  {
   "cell_type": "markdown",
   "metadata": {},
   "source": [
    "---\n",
    "\n",
    "<center><h2> Data Cleaning"
   ]
  },
  {
   "cell_type": "markdown",
   "metadata": {},
   "source": [
    "These are New York taxi and limousine rides for the month of January 2017 (of only one kind of taxi company out of the most popular 3!). I start by removing all additional columns besides pickup and dropoff location, as these are the only details I want to encode in my Bloom Filter for now. If I wanted to do queries on times, driver IDs or prices, for example, I would have to store that data in a seperate Filter. Not the most efficient way to query data, but for demonstrative purposes it is sufficient.\n",
    "\n",
    "Data retrieved from http://www.nyc.gov/html/tlc/html/about/trip_record_data.shtml"
   ]
  },
  {
   "cell_type": "code",
   "execution_count": 3,
   "metadata": {
    "collapsed": true
   },
   "outputs": [],
   "source": [
    "data = pd.read_csv('green_tripdata_2017-01.csv')"
   ]
  },
  {
   "cell_type": "code",
   "execution_count": 4,
   "metadata": {},
   "outputs": [
    {
     "name": "stdout",
     "output_type": "stream",
     "text": [
      "         VendorID lpep_pickup_datetime lpep_dropoff_datetime  \\\n",
      "1070259         1  2017-01-31 23:00:15   2017-01-31 23:10:07   \n",
      "1070260         1  2017-01-31 23:00:12   2017-01-31 23:04:19   \n",
      "\n",
      "        store_and_fwd_flag  RatecodeID  PULocationID  DOLocationID  \\\n",
      "1070259                  N           1            82            56   \n",
      "1070260                  N           1           244           244   \n",
      "\n",
      "         passenger_count  trip_distance  fare_amount  extra  mta_tax  \\\n",
      "1070259                1            2.2          9.0    0.5      0.5   \n",
      "1070260                1            0.7          5.0    0.5      0.5   \n",
      "\n",
      "         tip_amount  tolls_amount  ehail_fee  improvement_surcharge  \\\n",
      "1070259         0.0           0.0        NaN                    0.3   \n",
      "1070260         1.0           0.0        NaN                    0.3   \n",
      "\n",
      "         total_amount  payment_type  trip_type  \n",
      "1070259          10.3             2          1  \n",
      "1070260           7.3             1          1  \n"
     ]
    }
   ],
   "source": [
    "print data.tail(2)"
   ]
  },
  {
   "cell_type": "code",
   "execution_count": 5,
   "metadata": {},
   "outputs": [
    {
     "name": "stdout",
     "output_type": "stream",
     "text": [
      "       PULocationID  DOLocationID  Count\n",
      "17742           265           248      1\n",
      "17743           265           259      1\n",
      "17744           265           262      1\n",
      "17745           265           264      8\n",
      "17746           265           265    259\n"
     ]
    }
   ],
   "source": [
    "location_data = data[['PULocationID', 'DOLocationID']]\n",
    "loc_data_counters = (location_data.groupby(['PULocationID', 'DOLocationID'])\n",
    "                     .size().reset_index(name='Count'))\n",
    "print loc_data_counters.tail(5)"
   ]
  },
  {
   "cell_type": "markdown",
   "metadata": {},
   "source": [
    "There are more than 17.000 different combinations of pickup and dropoff locations within this data set alone. We want to reduce this to a number that will allow us to make actual inferences about our data, since we are not concerned with what exact street corner every pickup happened. Here I import the zone lookup file that shows the correspondence of each location ID to one of New York's 5 boroughs (+ 1 special zone for the airport). I have further split each of these in 2-5 sub-groups based on the secondary location information (not displayed here). Let's replace the 265 pickup and dropoff location numbers with those more general areas, for legibility purposes. "
   ]
  },
  {
   "cell_type": "code",
   "execution_count": 6,
   "metadata": {},
   "outputs": [
    {
     "name": "stdout",
     "output_type": "stream",
     "text": [
      "   LocationID         Borough\n",
      "0           1             EWR\n",
      "1           2         Queens1\n",
      "2           3          Bronx1\n",
      "3           4      Manhattan1\n",
      "4           5  Staten Island1\n",
      "5           6  Staten Island1\n",
      "6           7         Queens1\n"
     ]
    }
   ],
   "source": [
    "zone_lookup = pd.read_csv('taxi+_zone_lookup.csv')\n",
    "zone_lookup = zone_lookup[['LocationID', 'Borough']]\n",
    "print zone_lookup.head(7)"
   ]
  },
  {
   "cell_type": "code",
   "execution_count": 7,
   "metadata": {
    "collapsed": true
   },
   "outputs": [],
   "source": [
    "dic = {x: y for x, y in zip(zone_lookup['LocationID'], zone_lookup['Borough'])}\n",
    "\n",
    "location_data['PULocationID'] = location_data['PULocationID'].map(dic)\n",
    "location_data['DOLocationID'] = location_data['DOLocationID'].map(dic)"
   ]
  },
  {
   "cell_type": "code",
   "execution_count": 8,
   "metadata": {},
   "outputs": [
    {
     "name": "stdout",
     "output_type": "stream",
     "text": [
      "       PULocationID    DOLocationID  Count\n",
      "475  Staten Island2             EWR      3\n",
      "476  Staten Island2      Manhattan5      1\n",
      "477  Staten Island2         Queens3      1\n",
      "478  Staten Island2  Staten Island1     15\n",
      "479  Staten Island2  Staten Island2     69\n"
     ]
    }
   ],
   "source": [
    "new_loc_data_counters = (location_data.groupby(['PULocationID', 'DOLocationID'])\n",
    "                         .size().reset_index(name='Count'))\n",
    "\n",
    "print new_loc_data_counters.tail(5)"
   ]
  },
  {
   "cell_type": "markdown",
   "metadata": {},
   "source": [
    "Looks a lot better already! Now we have less than 500 distinct pickup-dropoff area correspondences for our roughly 1 million different rides. This should allow us to see where different taxi companies overlap and if any of them have privileges over a certain area that others might not. Below I have also created a list that holds the strings for all possible pickup-dropoff combinations. I use it later to \"undo\" the hashing of the set operation objects and print out the areas within them. While being originally concerned that such a function would take n^2 time (by permuting every pickup and every dropoff location and then checking for membership of each), by taking it directly from the location data counter here, I only lookup those permutations that actually exist and so reduced the lookups from 70.000+ to less than 500."
   ]
  },
  {
   "cell_type": "code",
   "execution_count": 9,
   "metadata": {
    "collapsed": true
   },
   "outputs": [],
   "source": [
    "lookup_permutations = []\n",
    "for i in range(len(new_loc_data_counters)):\n",
    "    lookup_permutations.append((str(new_loc_data_counters[\"PULocationID\"][i]+\n",
    "                                str(new_loc_data_counters[\"DOLocationID\"][i]))))"
   ]
  },
  {
   "cell_type": "markdown",
   "metadata": {},
   "source": [
    "---\n",
    "\n",
    "<center><h2> Set Operations on Counting Bloom Filters"
   ]
  },
  {
   "cell_type": "markdown",
   "metadata": {},
   "source": [
    "Now we want to code up set operations for two Counting Bloom Filter objects to use them for data analysis later. Specificially we want to be able to get the union, intersection and difference between two filters. All operations work with relatively simple list comprehension, either adding, subtracting or taking the minimum of the two arrays in any given slot."
   ]
  },
  {
   "cell_type": "markdown",
   "metadata": {},
   "source": [
    "Images retrieved from https://www.probabilitycourse.com/chapter1/1_2_2_set_operations.php\n",
    "\n",
    "References for set operations retrieved from https://blog.demofox.org/2015/02/08/estimating-set-membership-with-a-bloom-filter/"
   ]
  },
  {
   "cell_type": "code",
   "execution_count": 10,
   "metadata": {
    "collapsed": true
   },
   "outputs": [],
   "source": [
    "union = mpimg.imread('union.png')\n",
    "difference = mpimg.imread('difference.png')\n",
    "intersection = mpimg.imread('intersection.png')"
   ]
  },
  {
   "cell_type": "markdown",
   "metadata": {},
   "source": [
    "**Union:** The first operation that we want our Bloom Filters to do is return a union of two filters, meaning a new Bloom Filter object that holds only those items that are unique to both of the original arrays. Given the fact that we do not only have traditional Bloom Filters, where the union would simply mean all possible items, but that a Counting Bloom Filter has a count of those items too, the union function has received an additional argument *total*, that determines whether it should return a simple union or a total union. "
   ]
  },
  {
   "cell_type": "code",
   "execution_count": 11,
   "metadata": {},
   "outputs": [
    {
     "data": {
      "image/png": "[encoded data removed]",
      "text/plain": [
       "<matplotlib.figure.Figure at 0x1099669d0>"
      ]
     },
     "metadata": {},
     "output_type": "display_data"
    }
   ],
   "source": [
    "imgplot_union = plt.imshow(union)\n",
    "plt.show()"
   ]
  },
  {
   "cell_type": "markdown",
   "metadata": {},
   "source": [
    "**Intersection:** The intersection of our two Bloom Filters is simply all the items that the two sets have in common, including only the *amount* of each item that they have in common. This works by taking the minimum number of each slot in the two arrays. Additionally, this function checks to see if the returned Bloom Filter object is empty, which would imply that the two sets are disjoint and do not share any common rides."
   ]
  },
  {
   "cell_type": "code",
   "execution_count": 12,
   "metadata": {},
   "outputs": [
    {
     "data": {
      "image/png": "[encoded data removed]",
      "text/plain": [
       "<matplotlib.figure.Figure at 0x109ac3a90>"
      ]
     },
     "metadata": {},
     "output_type": "display_data"
    }
   ],
   "source": [
    "imgplot_intersect = plt.imshow(intersection)\n",
    "plt.show()"
   ]
  },
  {
   "cell_type": "markdown",
   "metadata": {},
   "source": [
    "**Difference:** The difference function shows items unique to either set A (A-B) or set B(B-A). It is notable here that the order in which arguments are passed in matters for the function to return the correct subset of the data. As I will demonstrate below the next section of code, this function can actually create *false negatives*, which the other two cannot. This is because if overlap between two hashed items exists this function cannot differentiate between which item the count came from and hence deletes both of them. When later searching for an item at the corresponding k slots, only k-1 or less of them will be filled and a false negative returned. To avoid this issue, the number of hash functions can be reduced and the size of the array increased to avoid overlaps as much as possible."
   ]
  },
  {
   "cell_type": "code",
   "execution_count": 13,
   "metadata": {},
   "outputs": [
    {
     "data": {
      "image/png": "[encoded data removed]",
      "text/plain": [
       "<matplotlib.figure.Figure at 0x109af4610>"
      ]
     },
     "metadata": {},
     "output_type": "display_data"
    }
   ],
   "source": [
    "imgplot_diff = plt.imshow(difference)\n",
    "plt.show()"
   ]
  },
  {
   "cell_type": "code",
   "execution_count": 14,
   "metadata": {},
   "outputs": [],
   "source": [
    "def union(bloom1, bloom2, total=None):\n",
    "    \"\"\"\n",
    "    Returns either a simple union (just a list of existing\n",
    "    items in both filters) or a total one (all existing items\n",
    "    together with their total count).\n",
    "    \"\"\"\n",
    "    if bloom1.bits != bloom2.bits:\n",
    "        print \"Your bloom filters must have the same size.\"\n",
    "        return 0\n",
    "    elif bloom1.k != bloom2.k:\n",
    "        print \"Unequal number of hash functions.\"\n",
    "        return 0\n",
    "    else:\n",
    "        union_bloom = CountingBloom(bloom1.ideal_items, bloom1.k,\n",
    "                                    bloom1.fp_rate, True)\n",
    "        sum_blooms = [x1 + x2 for (x1, x2) in zip(bloom1.array, bloom2.array)]\n",
    "        if total != None:\n",
    "            union_bloom.array = sum_blooms\n",
    "            print \"Returning a total union.\"\n",
    "        else:\n",
    "            union_bloom.array = [1 if (x > 0) else 0 for x in sum_blooms]\n",
    "            print \"Returning a simple union.\"\n",
    "        return union_bloom\n",
    "    \n",
    "def intersection(bloom1, bloom2):\n",
    "    \"\"\"\n",
    "    Calculates where the two sets intersect and,\n",
    "    if given, if they are disjoint or not.\n",
    "    \"\"\"\n",
    "    if bloom1.bits != bloom2.bits:\n",
    "        print \"Your bloom filters must have the same size.\"\n",
    "        return 0\n",
    "    elif bloom1.k != bloom2.k:\n",
    "        print \"Unequal number of hash functions.\"\n",
    "        return 0\n",
    "    else:\n",
    "        intersect_bloom = CountingBloom(bloom1.ideal_items, bloom1.k,\n",
    "                                        bloom1.fp_rate, True)\n",
    "        intersect_bloom.array = [min(x1, x2) for (x1, x2) in\n",
    "                                 zip(bloom1.array, bloom2.array)]\n",
    "        if all([x == 0 for x in intersect_bloom.array]):\n",
    "            print \"These two sets are disjoint!\"\n",
    "        return intersect_bloom\n",
    "    \n",
    "def difference(bloom1, bloom2):\n",
    "    \"\"\"\n",
    "    Returns the items unique to bloom1. Note that\n",
    "    this can create false negatives if items overlap.\n",
    "    \"\"\"\n",
    "    if bloom1.bits != bloom2.bits:\n",
    "        print \"Your bloom filters must have the same size.\"\n",
    "        return 0\n",
    "    elif bloom1.k != bloom2.k:\n",
    "        print \"Unequal number of hash functions.\"\n",
    "        return 0\n",
    "    else:\n",
    "        intersect_bloom = CountingBloom(bloom1.ideal_items, bloom1.k,\n",
    "                                        bloom1.fp_rate, True)\n",
    "        intersect_bloom.array = [x1-x2 if (x1-x2 >= 0) else 0 for (x1, x2)\n",
    "                                 in zip(bloom1.array, bloom2.array)]\n",
    "        return intersect_bloom    \n",
    "    \n",
    "def unhash_print(bloom, lookup, count):\n",
    "    \"\"\"\n",
    "    Checks for membership of all lookup strings in\n",
    "    the filter and returns those that exist more \n",
    "    than the number of count (to avoid printing a \n",
    "    giant list.)\n",
    "    \"\"\"\n",
    "    for route in lookup:\n",
    "        if bloom.member(route) and bloom.count(route) >= count:\n",
    "            print str(bloom.count(route)) + \"x \" + str(route)"
   ]
  },
  {
   "cell_type": "code",
   "execution_count": 15,
   "metadata": {},
   "outputs": [
    {
     "name": "stdout",
     "output_type": "stream",
     "text": [
      "Returning a simple union.\n",
      "Returning a total union.\n",
      "Initial1: \u0000\u0003\u0003\u0000\u0000\u0003\u0003\u0000\u0006\u0000\u0000\u0000\u0003\u0006\u0000\u0000\u0006\u0003\u0000\n",
      "Initial2: \u0000\u0003\u0000\u0000\u0000\u0003\u0003\u0003\u0006\u0000\u0000\u0000\u0003\u0003\u0000\u0003\t\u0000\u0000\n",
      "Union_si: [0, 1, 1, 0, 0, 1, 1, 1, 1, 0, 0, 0, 1, 1, 0, 1, 1, 1, 0]\n",
      "Union_to: [0, 6, 3, 0, 0, 6, 6, 3, 12, 0, 0, 0, 6, 9, 0, 3, 15, 3, 0]\n",
      "Intersec: [0, 3, 0, 0, 0, 3, 3, 0, 6, 0, 0, 0, 3, 3, 0, 0, 6, 0, 0]\n",
      "Diff_1o2: [0, 0, 3, 0, 0, 0, 0, 0, 0, 0, 0, 0, 0, 3, 0, 0, 0, 3, 0]\n",
      "Diff_2o1: [0, 0, 0, 0, 0, 0, 0, 3, 0, 0, 0, 0, 0, 0, 0, 3, 3, 0, 0]\n",
      "_________\n",
      "False\n",
      "False\n",
      "False\n",
      "False\n",
      "False\n",
      "False\n"
     ]
    }
   ],
   "source": [
    "taxi1 = CountingBloom(3, 4, 0.05)\n",
    "taxi2 = CountingBloom(3, 4, 0.05)\n",
    "\n",
    "for _ in range(3):\n",
    "    taxi1.add(\"hello\")\n",
    "    taxi1.add(\"goodbye\")\n",
    "    taxi1.add(\"steven\")\n",
    "    taxi2.add(\"hello\")\n",
    "    taxi2.add(\"goodbye\")\n",
    "    taxi2.add(\"george\")\n",
    "    \n",
    "taxi_union_simple = union(taxi1, taxi2)\n",
    "taxi_union_total = union(taxi1, taxi2, total=\"yes\")\n",
    "taxi_intersection = intersection(taxi1, taxi2)\n",
    "taxi_diff_1_to_2 = difference(taxi1, taxi2)\n",
    "taxi_diff_2_to_1 = difference(taxi2, taxi1)\n",
    "print \"Initial1: \" + str(taxi1.array)\n",
    "print \"Initial2: \" + str(taxi2.array)\n",
    "print \"Union_si: \" + str(taxi_union_simple.array)\n",
    "print \"Union_to: \" + str(taxi_union_total.array)\n",
    "print \"Intersec: \" + str(taxi_intersection.array)\n",
    "print \"Diff_1o2: \" + str(taxi_diff_1_to_2.array)\n",
    "print \"Diff_2o1: \" + str(taxi_diff_2_to_1.array)\n",
    "print \"_________\"\n",
    "\n",
    "print taxi_diff_1_to_2.member('steven')\n",
    "print taxi_diff_1_to_2.member('hello')\n",
    "print taxi_diff_1_to_2.member('george')\n",
    "\n",
    "print taxi_diff_2_to_1.member('steven')\n",
    "print taxi_diff_2_to_1.member('hello')\n",
    "print taxi_diff_2_to_1.member('george')"
   ]
  },
  {
   "cell_type": "markdown",
   "metadata": {},
   "source": [
    "Above a short demonstration of what all operations look like on the array. Note that the initial objects are not printed out because they are bitarrays. Only the set operated objects have normal arrays and can hence be printed. Note that when testing for all items in the sets that hold only the differences between 1 and 2, all memberships return False. In realtiy, however, \"steven\" is unique to the first set and \"george\" unique to the second set. As mentioned above, we can avoid such a false negative by reducing the allowed error rate and reducing the number of hash functions to avoid collision:"
   ]
  },
  {
   "cell_type": "code",
   "execution_count": 16,
   "metadata": {},
   "outputs": [
    {
     "name": "stdout",
     "output_type": "stream",
     "text": [
      "True\n",
      "False\n",
      "False\n",
      "False\n",
      "False\n",
      "True\n"
     ]
    }
   ],
   "source": [
    "taxi1 = CountingBloom(3, 2, 0.01)\n",
    "taxi2 = CountingBloom(3, 2, 0.01)\n",
    "\n",
    "for _ in range(3):\n",
    "    taxi1.add(\"hello\")\n",
    "    taxi1.add(\"goodbye\")\n",
    "    taxi1.add(\"steven\")\n",
    "    taxi2.add(\"hello\")\n",
    "    taxi2.add(\"goodbye\")\n",
    "    taxi2.add(\"george\")\n",
    "    \n",
    "taxi_diff_1_to_2 = difference(taxi1, taxi2)\n",
    "taxi_diff_2_to_1 = difference(taxi2, taxi1)\n",
    "\n",
    "print taxi_diff_1_to_2.member('steven')\n",
    "print taxi_diff_1_to_2.member('hello')\n",
    "print taxi_diff_1_to_2.member('george')\n",
    "\n",
    "print taxi_diff_2_to_1.member('steven')\n",
    "print taxi_diff_2_to_1.member('hello')\n",
    "print taxi_diff_2_to_1.member('george')"
   ]
  },
  {
   "cell_type": "markdown",
   "metadata": {},
   "source": [
    "---\n",
    "\n",
    "<center><h2> Taxi Companies"
   ]
  },
  {
   "cell_type": "markdown",
   "metadata": {},
   "source": [
    "Now let's create some taxi companies and see if we can assign them data for rides they provided."
   ]
  },
  {
   "cell_type": "code",
   "execution_count": 17,
   "metadata": {},
   "outputs": [
    {
     "name": "stdout",
     "output_type": "stream",
     "text": [
      "        PULocationID DOLocationID\n",
      "1070258    Brooklyn3      Queens3\n",
      "1070259      Queens2      Queens2\n",
      "1070260   Manhattan5   Manhattan5\n"
     ]
    }
   ],
   "source": [
    "print location_data.tail(3)"
   ]
  },
  {
   "cell_type": "code",
   "execution_count": 18,
   "metadata": {
    "collapsed": true
   },
   "outputs": [],
   "source": [
    "green_taxi = CountingBloom(500, 2, 0.005)\n",
    "yellow_taxi = CountingBloom(500, 2, 0.005)\n",
    "blue_taxi = CountingBloom(500, 2, 0.005)\n",
    "red_taxi = CountingBloom(500, 2, 0.005)"
   ]
  },
  {
   "cell_type": "markdown",
   "metadata": {},
   "source": [
    "I have reduced the number of hash functions to reduce the error of the set differences. Given the size limitations of our bitarray, we can assign each company 1700 different rides, roughly what they would do on a Saturday afternoon."
   ]
  },
  {
   "cell_type": "code",
   "execution_count": 19,
   "metadata": {},
   "outputs": [],
   "source": [
    "taxi_companies = [green_taxi, yellow_taxi, blue_taxi, red_taxi]\n",
    "color = [\"green\", \"yellow\", \"blue\", \"red\"]\n",
    "\n",
    "items = 1700\n",
    "\n",
    "for (i, company) in enumerate(taxi_companies):\n",
    "    for j in range(items*i, items*(i*2)):\n",
    "        ride_code = (str(location_data['PULocationID'][j]) +\n",
    "                     str(location_data['DOLocationID'][j]))\n",
    "        company.add(ride_code)\n",
    "        "
   ]
  },
  {
   "cell_type": "markdown",
   "metadata": {},
   "source": [
    "Knowing nothing else about the rides we have just assigned those companies, we would expect there to be some overlap between them and some areas that they mostly cover by themselves, so we would expect their venn diagram to look something like this one:"
   ]
  },
  {
   "cell_type": "code",
   "execution_count": 20,
   "metadata": {},
   "outputs": [
    {
     "data": {
      "image/png": "[encoded data removed]",
      "text/plain": [
       "<matplotlib.figure.Figure at 0x10a3c24d0>"
      ]
     },
     "metadata": {},
     "output_type": "display_data"
    }
   ],
   "source": [
    "original_ven = mpimg.imread('original_overlap.png')\n",
    "imgplot = plt.imshow(original_ven)\n",
    "plt.show()"
   ]
  },
  {
   "cell_type": "markdown",
   "metadata": {},
   "source": [
    "Now let's look at what kind of queries we can make with these taxi companies for our made up Saturday afternoon.\n",
    "First thing first, I was planning on ordering a cab for my cousing, coming in from the airport next Saturday, so let's use this Saturday's data as a proxy. She has not yet decided where she is going to stay, so let's say we want to know if taxis cover the way to either a hotel in the Bronx, a suite in Queens or a different hotel in Manhatten are. These are located in the following areas:\n",
    "- Bronx1\n",
    "- Queens3\n",
    "- Manhatten2"
   ]
  },
  {
   "cell_type": "code",
   "execution_count": 21,
   "metadata": {},
   "outputs": [
    {
     "name": "stdout",
     "output_type": "stream",
     "text": [
      "Returning a simple union.\n",
      "Returning a simple union.\n",
      "Returning a simple union.\n",
      "1x EWRBronx3\n",
      "1x EWRQueens3\n"
     ]
    }
   ],
   "source": [
    "airport_lookup = [\"EWRBronx3\", \"EWRQueens3\", \"EWRManhatten2\"]\n",
    "\n",
    "union_rides = union(yellow_taxi, union(red_taxi,\n",
    "                    union(blue_taxi, green_taxi)))\n",
    "unhash_print(union_rides, airport_lookup, 0)"
   ]
  },
  {
   "cell_type": "markdown",
   "metadata": {},
   "source": [
    "Looks like some taxis were going to two of those neighborhoods! Now I would also like to get a feel for how busy those times are at the airport."
   ]
  },
  {
   "cell_type": "code",
   "execution_count": 22,
   "metadata": {},
   "outputs": [
    {
     "name": "stdout",
     "output_type": "stream",
     "text": [
      "Returning a total union.\n",
      "Returning a total union.\n",
      "Returning a total union.\n",
      "2x EWRBronx3\n",
      "2x EWRQueens3\n"
     ]
    }
   ],
   "source": [
    "total_rides = (union(yellow_taxi, union(red_taxi, union(blue_taxi,\n",
    "               green_taxi, total=\"yes\"), total=\"yes\"), total=\"yes\"))\n",
    "unhash_print(total_rides, airport_lookup, 0)"
   ]
  },
  {
   "cell_type": "markdown",
   "metadata": {},
   "source": [
    "Two each, so not that busy after all. How about the total traffic in Staten Island only?"
   ]
  },
  {
   "cell_type": "code",
   "execution_count": 23,
   "metadata": {},
   "outputs": [
    {
     "name": "stdout",
     "output_type": "stream",
     "text": [
      "None\n"
     ]
    }
   ],
   "source": [
    "staten_island_lookup = ['StatenIsland1StatenIsland1','StatenIsland1StatenIsland2',\n",
    "                        'StatenIsland2StatenIsland1','StatenIsland2StatenIsland2']\n",
    "print unhash_print(total_rides, staten_island_lookup, 0)"
   ]
  },
  {
   "cell_type": "markdown",
   "metadata": {},
   "source": [
    "No one! Guess people don't want to stay around the island after all. Now, since my other cousin has been thinking about starting to ride his Uber in a new area, that he hopes will pay better, I'd like to know what the most popular taxi terriorty is. Let's look for places that all of the companies go to!"
   ]
  },
  {
   "cell_type": "code",
   "execution_count": 24,
   "metadata": {},
   "outputs": [
    {
     "name": "stdout",
     "output_type": "stream",
     "text": [
      "These two sets are disjoint!\n"
     ]
    }
   ],
   "source": [
    "most_wanted = intersection(green_taxi, intersection(yellow_taxi,\n",
    "                            intersection(red_taxi, blue_taxi)))"
   ]
  },
  {
   "cell_type": "markdown",
   "metadata": {},
   "source": [
    "Looks like some of these taxi companies don't overlap at all! Let's have a closer look at that.\n"
   ]
  },
  {
   "cell_type": "code",
   "execution_count": 25,
   "metadata": {},
   "outputs": [
    {
     "name": "stdout",
     "output_type": "stream",
     "text": [
      "green and yellow\n",
      "These two sets are disjoint!\n",
      "green and blue\n",
      "These two sets are disjoint!\n",
      "green and red\n",
      "These two sets are disjoint!\n",
      "yellow and green\n",
      "These two sets are disjoint!\n",
      "yellow and blue\n",
      "135x Manhattan1Manhattan1\n",
      "yellow and red\n",
      "135x Manhattan1Manhattan1\n",
      "blue and green\n",
      "These two sets are disjoint!\n",
      "blue and yellow\n",
      "135x Manhattan1Manhattan1\n",
      "blue and red\n",
      "72x Brooklyn2Brooklyn2\n",
      "67x Brooklyn5Brooklyn5\n",
      "203x Manhattan1Manhattan1\n",
      "92x Queens2Queens2\n",
      "82x Queens2Queens3\n",
      "86x Queens3Queens3\n",
      "red and green\n",
      "These two sets are disjoint!\n",
      "red and yellow\n",
      "135x Manhattan1Manhattan1\n",
      "red and blue\n",
      "72x Brooklyn2Brooklyn2\n",
      "67x Brooklyn5Brooklyn5\n",
      "203x Manhattan1Manhattan1\n",
      "92x Queens2Queens2\n",
      "82x Queens2Queens3\n",
      "86x Queens3Queens3\n"
     ]
    }
   ],
   "source": [
    "for (color_1,company) in zip(color, taxi_companies):\n",
    "    for (color_2, other_company) in zip(color, taxi_companies):\n",
    "        if company != other_company:\n",
    "            print color_1 + \" and \" + color_2\n",
    "            intersect = intersection(company, other_company)\n",
    "            unhash_print(intersect, lookup_permutations, 65)\n",
    "            \n",
    "            "
   ]
  },
  {
   "cell_type": "markdown",
   "metadata": {},
   "source": [
    "Looks like Taxi Green has has their whole own territory on this nice Saturday afternoon, while Yellow is sharing some of the more popular spots with Blue and Red. And from the looks of it, Blue and Red are sharing more than 60% of their territory with each other! Maybe they should consider doing joint rides for such times, they might be able to cover the area more effectively with less cars. In reality, their overlap looks more something like this:"
   ]
  },
  {
   "cell_type": "code",
   "execution_count": 26,
   "metadata": {},
   "outputs": [
    {
     "data": {
      "image/png": "[encoded data removed]",
      "text/plain": [
       "<matplotlib.figure.Figure at 0x10ab89890>"
      ]
     },
     "metadata": {},
     "output_type": "display_data"
    }
   ],
   "source": [
    "actual_ven = mpimg.imread('actual_overlap.png')\n",
    "imgplot2 = plt.imshow(actual_ven)\n",
    "plt.show()"
   ]
  },
  {
   "cell_type": "markdown",
   "metadata": {},
   "source": [
    "Now that we know that Blue and Red share so much territory with one another, let's look at what they don't share."
   ]
  },
  {
   "cell_type": "code",
   "execution_count": 27,
   "metadata": {},
   "outputs": [
    {
     "name": "stdout",
     "output_type": "stream",
     "text": [
      "Unique to Red Taxi:\n",
      "52x Brooklyn1Brooklyn1\n",
      "43x Manhattan1Manhattan1\n",
      "55x Queens2Queens2\n",
      "56x Queens3Queens3\n"
     ]
    }
   ],
   "source": [
    "unique_red = difference(red_taxi, blue_taxi)\n",
    "unique_blue = difference(blue_taxi, red_taxi)\n",
    "\n",
    "print \"Unique to Red Taxi:\"\n",
    "unhash_print(unique_red, lookup_permutations, 40)"
   ]
  },
  {
   "cell_type": "code",
   "execution_count": 28,
   "metadata": {},
   "outputs": [
    {
     "name": "stdout",
     "output_type": "stream",
     "text": [
      "Unique to Blue Taxi:\n",
      "1x Bronx1Bronx4\n",
      "1x Bronx1Manhattan4\n",
      "1x Bronx3Queens4\n",
      "2x Bronx4Manhattan5\n",
      "1x Bronx5Brooklyn2\n",
      "1x Bronx5Manhattan1\n",
      "1x Brooklyn1Manhattan2\n",
      "1x Brooklyn1Staten Island2\n",
      "1x Brooklyn2Queens1\n",
      "1x Brooklyn3EWR\n",
      "1x Brooklyn3Queens2\n",
      "1x Brooklyn4EWR\n",
      "2x Brooklyn5Queens2\n",
      "1x EWRBrooklyn1\n",
      "1x EWRBrooklyn4\n",
      "1x EWRQueens2\n",
      "1x Manhattan1Brooklyn3\n",
      "2x Manhattan2Bronx1\n",
      "2x Manhattan2Bronx3\n",
      "1x Manhattan2Brooklyn1\n",
      "1x Manhattan2EWR\n",
      "1x Manhattan3Bronx2\n",
      "2x Manhattan3Bronx3\n",
      "2x Manhattan3Manhattan1\n",
      "1x Manhattan3Queens1\n",
      "3x Manhattan4Bronx2\n",
      "1x Manhattan4Manhattan4\n",
      "1x Manhattan5Bronx2\n",
      "1x Manhattan5Queens2\n",
      "1x Manhattan5Queens3\n",
      "1x Queens1Bronx3\n",
      "3x Queens1Brooklyn2\n",
      "1x Queens1Brooklyn5\n",
      "1x Queens2Bronx5\n",
      "3x Queens2Manhattan4\n",
      "1x Queens3Bronx2\n",
      "2x Queens3Manhattan1\n",
      "1x Queens3Manhattan4\n",
      "1x Queens4Bronx2\n",
      "1x Queens4Brooklyn1\n",
      "1x Queens4Brooklyn4\n",
      "1x Queens5Bronx4\n",
      "2x Queens5Manhattan5\n"
     ]
    }
   ],
   "source": [
    "print \"Unique to Blue Taxi:\"\n",
    "unhash_print(unique_blue, lookup_permutations, 1)"
   ]
  },
  {
   "cell_type": "markdown",
   "metadata": {},
   "source": [
    "Looks like Red has some nice areas carved out for itself within Brooklyn, Manhatten and Queens, while Blue's unique routes are mostly those that go between different areas and are rather spread out. And that concludes our taxi querying for this lovely Saturday afternoon. Goodbye!"
   ]
  }
 ],
 "metadata": {
  "kernelspec": {
   "display_name": "Python 2",
   "language": "python",
   "name": "python2"
  },
  "language_info": {
   "codemirror_mode": {
    "name": "ipython",
    "version": 2
   },
   "file_extension": ".py",
   "mimetype": "text/x-python",
   "name": "python",
   "nbconvert_exporter": "python",
   "pygments_lexer": "ipython2",
   "version": "2.7.14"
  }
 },
 "nbformat": 4,
 "nbformat_minor": 2
}
