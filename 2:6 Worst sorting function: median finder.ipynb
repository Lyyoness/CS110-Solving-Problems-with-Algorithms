{
 "cells": [
  {
   "cell_type": "code",
   "execution_count": 18,
   "metadata": {},
   "outputs": [],
   "source": [
    "import random as rd\n",
    "import numpy as np"
   ]
  },
  {
   "cell_type": "code",
   "execution_count": 15,
   "metadata": {},
   "outputs": [
    {
     "name": "stdout",
     "output_type": "stream",
     "text": [
      "Trying again!\n",
      "Trying again!\n",
      "Trying again!\n",
      "Trying again!\n",
      "[1, 3, 4]\n"
     ]
    }
   ],
   "source": [
    "def shuffle_array(array):\n",
    "    rd.shuffle(array)\n",
    "    \n",
    "    return array\n",
    "\n",
    "def checker(array):\n",
    "    for i in range(0,len(array)-1):\n",
    "        if array[i] > array[i+1]:\n",
    "                return False\n",
    "            \n",
    "    return True\n",
    "\n",
    "\n",
    "\n",
    "def worst_sorting(array):\n",
    "    shuffle_array(array)\n",
    "    check = False\n",
    "    \n",
    "    check = checker(array)\n",
    "    \n",
    "    if check == True:\n",
    "        print array\n",
    "    else:\n",
    "        print \"Trying again!\"\n",
    "        worst_sorting(array)\n",
    "\n",
    "\n",
    "\n",
    "test_array = [1, 3, 4]\n",
    "worst_sorting(test_array)"
   ]
  },
  {
   "cell_type": "code",
   "execution_count": 72,
   "metadata": {
    "collapsed": true
   },
   "outputs": [],
   "source": [
    "def approx_median(array, delta):\n",
    "    pick = rd.choice(array)\n",
    "    \n",
    "    top = np.max(array)\n",
    "    bottom = np.min(array)\n",
    "    range_array = top - bottom\n",
    "    perc = range_array / 100.0\n",
    "    \n",
    "    minus_one_stdev = (bottom+(perc*50))-((delta*perc)/2)\n",
    "    plus_one_stdev = (bottom+(perc*50))+((delta*perc)/2)\n",
    "    \n",
    "    if pick >= minus_one_stdev and pick <= plus_one_stdev:\n",
    "        print pick\n",
    "    else:\n",
    "        approx_median(array,delta)\n",
    "\n",
    "        "
   ]
  },
  {
   "cell_type": "code",
   "execution_count": 73,
   "metadata": {},
   "outputs": [
    {
     "name": "stdout",
     "output_type": "stream",
     "text": [
      "2\n"
     ]
    }
   ],
   "source": [
    "test_array = [1, 2, 3]\n",
    "approx_median(test_array, 6)"
   ]
  },
  {
   "cell_type": "code",
   "execution_count": null,
   "metadata": {
    "collapsed": true
   },
   "outputs": [],
   "source": []
  }
 ],
 "metadata": {
  "kernelspec": {
   "display_name": "Python 2",
   "language": "python",
   "name": "python2"
  },
  "language_info": {
   "codemirror_mode": {
    "name": "ipython",
    "version": 2
   },
   "file_extension": ".py",
   "mimetype": "text/x-python",
   "name": "python",
   "nbconvert_exporter": "python",
   "pygments_lexer": "ipython2",
   "version": "2.7.14"
  }
 },
 "nbformat": 4,
 "nbformat_minor": 2
}
