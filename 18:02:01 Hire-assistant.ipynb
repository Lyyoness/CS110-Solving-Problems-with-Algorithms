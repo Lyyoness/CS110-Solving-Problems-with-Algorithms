{
 "cells": [
  {
   "cell_type": "code",
   "execution_count": 55,
   "metadata": {},
   "outputs": [],
   "source": [
    "import random\n",
    "import matplotlib.pyplot as plt\n",
    "import numpy as np\n",
    "\n",
    "def hire_assistant(n):\n",
    "    best = 0\n",
    "    hire_counter = 0\n",
    "    \n",
    "    for i in range(n):\n",
    "        hire_score = random.uniform(0,1)\n",
    "        \n",
    "        if hire_score > best:\n",
    "            best = hire_score\n",
    "            hire_counter += 1\n",
    "            \n",
    "    return hire_counter"
   ]
  },
  {
   "cell_type": "code",
   "execution_count": null,
   "metadata": {
    "collapsed": true
   },
   "outputs": [],
   "source": [
    "def ten_percent_hire_assistant(n):\n",
    "    best = 0\n",
    "    hire_counter = 0\n",
    "    \n",
    "    for i in range(n):\n",
    "        hire_score = random.uniform(0,1)\n",
    "        \n",
    "        if hire_score > best:\n",
    "            best = hire_score\n",
    "            hire_counter += 1\n",
    "            \n",
    "    return hire_counter"
   ]
  },
  {
   "cell_type": "code",
   "execution_count": 72,
   "metadata": {},
   "outputs": [
    {
     "name": "stdout",
     "output_type": "stream",
     "text": [
      "5.647\n"
     ]
    }
   ],
   "source": [
    "counter = 0\n",
    "\n",
    "for i in range(1000):\n",
    "    n = 150\n",
    "    counter += hire_assistant(n)\n",
    "    \n",
    "print float(counter)/(1000)"
   ]
  },
  {
   "cell_type": "code",
   "execution_count": 71,
   "metadata": {},
   "outputs": [
    {
     "name": "stdout",
     "output_type": "stream",
     "text": [
      "[   1.    3.    5.   10.   20.   35.   50.   75.  100.  150.  200.]\n"
     ]
    },
    {
     "data": {
      "image/png": "[encoded data removed]",
      "text/plain": [
       "<matplotlib.figure.Figure at 0x1156f1d90>"
      ]
     },
     "metadata": {},
     "output_type": "display_data"
    }
   ],
   "source": [
    "data = np.array([[1, 1.0],\n",
    "       [3, 1.79],\n",
    "       [5, 2.335],\n",
    "       [10, 2.91],\n",
    "       [20, 3.627],\n",
    "       [35, 4.113],\n",
    "       [50, 4.394],\n",
    "       [75, 4.835],\n",
    "       [100, 5.057],\n",
    "       [150, 5.643],\n",
    "       [200, 5.9]])\n",
    "\n",
    "x = data[:,0]\n",
    "print x\n",
    "y = data[:,1]\n",
    "\n",
    "plt.plot(x,y)\n",
    "plt.show()"
   ]
  },
  {
   "cell_type": "code",
   "execution_count": 118,
   "metadata": {},
   "outputs": [],
   "source": [
    "def hat_check(n):\n",
    "    counter = 0\n",
    "    hats_gotten = random.sample(xrange(n), n)\n",
    "    hats_given_back = random.sample(xrange(n), n)\n",
    "    \n",
    "    for i in range(n):\n",
    "        if hats_gotten[i] == hats_given_back[i]:\n",
    "            counter +=1\n",
    "    return counter"
   ]
  },
  {
   "cell_type": "code",
   "execution_count": 127,
   "metadata": {},
   "outputs": [
    {
     "name": "stdout",
     "output_type": "stream",
     "text": [
      "1.049\n"
     ]
    }
   ],
   "source": [
    "hat_counter = 0\n",
    "\n",
    "for i in range(1000):\n",
    "    n = 200\n",
    "    hat_counter += hat_check(n)\n",
    "    \n",
    "print float(hat_counter)/(1000)"
   ]
  },
  {
   "cell_type": "code",
   "execution_count": 130,
   "metadata": {},
   "outputs": [
    {
     "name": "stdout",
     "output_type": "stream",
     "text": [
      "[   1.    3.    5.   10.   20.   35.   50.   75.  100.  150.  200.]\n"
     ]
    },
    {
     "data": {
      "image/png": "[encoded data removed]",
      "text/plain": [
       "<matplotlib.figure.Figure at 0x11918f110>"
      ]
     },
     "metadata": {},
     "output_type": "display_data"
    }
   ],
   "source": [
    "hat_data = np.array([[1, 1.0],\n",
    "                   [3, 0.994],\n",
    "                   [5, 0.978],\n",
    "                   [10, 0.951],\n",
    "                   [20, 1.005],\n",
    "                   [35, 1.009],\n",
    "                   [50, 1.045],\n",
    "                   [75, 1.034],\n",
    "                   [100, 1.026],\n",
    "                   [150, 1.011],\n",
    "                   [200, 1.049]])\n",
    "\n",
    "x = hat_data[:,0]\n",
    "print x\n",
    "y = hat_data[:,1]\n",
    "\n",
    "plt.plot(x,y)\n",
    "plt.show()"
   ]
  },
  {
   "cell_type": "code",
   "execution_count": null,
   "metadata": {
    "collapsed": true
   },
   "outputs": [],
   "source": []
  }
 ],
 "metadata": {
  "kernelspec": {
   "display_name": "Python 2",
   "language": "python",
   "name": "python2"
  },
  "language_info": {
   "codemirror_mode": {
    "name": "ipython",
    "version": 2
   },
   "file_extension": ".py",
   "mimetype": "text/x-python",
   "name": "python",
   "nbconvert_exporter": "python",
   "pygments_lexer": "ipython2",
   "version": "2.7.14"
  }
 },
 "nbformat": 4,
 "nbformat_minor": 2
}
