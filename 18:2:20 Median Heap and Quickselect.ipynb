{
 "cells": [
  {
   "cell_type": "code",
   "execution_count": 1,
   "metadata": {
    "collapsed": true
   },
   "outputs": [],
   "source": [
    "import heapq\n",
    "import random"
   ]
  },
  {
   "cell_type": "markdown",
   "metadata": {},
   "source": [
    "heapq.heappush(heap, item)\n",
    "Push the value item onto the heap, maintaining the heap invariant.\n",
    "\n",
    "\n",
    "heapq.heappop(heap)\n",
    "Pop and return the smallest item from the heap, maintaining the heap invariant. If the heap is empty, IndexError is raised.\n",
    "\n",
    "\n",
    "heapq.heappushpop(heap, item)\n",
    "Push item on the heap, then pop and return the smallest item from the heap. The combined action runs more efficiently than heappush() followed by a separate call to heappop().\n",
    "\n",
    "\n",
    "heapq.heapify(x)\n",
    "Transform list x into a heap, in-place, in linear time.\n",
    "\n",
    "\n",
    "heapq.heapreplace(heap, item)\n",
    "Pop and return the smallest item from the heap, and also push the new item. The heap size doesn’t change. If the heap is empty, IndexError is raised. This is more efficient than heappop() followed by heappush(), and can be more appropriate when using a fixed-size heap. Note that the value returned may be larger than item! That constrains reasonable uses of this routine unless written as part of a conditional replacement:\n",
    "\n",
    "if item > heap[0]:\n",
    "    item = heapreplace(heap, item)"
   ]
  },
  {
   "cell_type": "code",
   "execution_count": 2,
   "metadata": {
    "collapsed": true
   },
   "outputs": [],
   "source": [
    "def add_to_median_heap(minheap, maxheap, elem_list):\n",
    "    \n",
    "    #assume elem to be a list of elements to be added\n",
    "    #default puts values on the minheap\n",
    "    for elem in elem_list:\n",
    "        heapq.heappush(minheap, elem)\n",
    "    \n",
    "    # rebalancing (max heap is built by\n",
    "    # each value being multiplied by -1)\n",
    "    balance_element = 0\n",
    "\n",
    "    while len(minheap) > len(maxheap):\n",
    "        balance_element = heapq.heappop(minheap)\n",
    "        heapq.heappush(maxheap,(balance_element * -1))\n",
    "        \n",
    "    return minheap, maxheap"
   ]
  },
  {
   "cell_type": "code",
   "execution_count": 3,
   "metadata": {
    "collapsed": true
   },
   "outputs": [],
   "source": [
    "def median(minheap, maxheap):\n",
    "    median = 0\n",
    "    \n",
    "    if len(minheap) == len(maxheap):\n",
    "        median = ( minheap[0] + (maxheap[0]* -1) ) / 2\n",
    "        \n",
    "    # the way we add to the heaps, this should\n",
    "    # never happen, but we leave it here just in case    \n",
    "    elif len(minheap) > len(maxheap):\n",
    "        median = minheap[0]\n",
    "        \n",
    "    else:\n",
    "        median = maxheap[0]* -1\n",
    "    \n",
    "    return median"
   ]
  },
  {
   "cell_type": "code",
   "execution_count": 4,
   "metadata": {},
   "outputs": [
    {
     "name": "stdout",
     "output_type": "stream",
     "text": [
      "[8, 8, 16, 13, 22, 23, 25] [-6, -5, -4, -3, -2, -1, -3, 0]\n",
      "6\n"
     ]
    }
   ],
   "source": [
    "test_min = []\n",
    "test_max = []\n",
    "items = [3, 3, 2, 13, 8, 16, 1, 23, 0, 22, 4, 6, 8, 25, 5]\n",
    "\n",
    "test_min, test_max = add_to_median_heap(test_min, test_max, items)\n",
    "print test_min, test_max\n",
    "\n",
    "print median(test_min, test_max)"
   ]
  },
  {
   "cell_type": "code",
   "execution_count": 5,
   "metadata": {
    "collapsed": true
   },
   "outputs": [],
   "source": [
    "def quicksort(array, low, high):\n",
    "    \n",
    "    # if we reached end of section\n",
    "    if low < high:\n",
    "        \n",
    "        part_index = partition(array, low, high)\n",
    "        \n",
    "        # sort the rest of the array recursively\n",
    "        # and in place\n",
    "        quicksort(array, low, part_index - 1)\n",
    "        quicksort(array, part_index + 1, high)\n",
    "        \n",
    "    return array\n",
    "    "
   ]
  },
  {
   "cell_type": "code",
   "execution_count": 6,
   "metadata": {
    "collapsed": true
   },
   "outputs": [],
   "source": [
    "def partition(array, low, high):\n",
    "    \n",
    "    pivot_index = high\n",
    "    i = low - 1\n",
    "    \n",
    "    for j in range(low, high):\n",
    "        \n",
    "        # if current item is smaller than or equal\n",
    "        # to pivot (last value), swap them & increment i\n",
    "        if array[j] <= pivot_index:\n",
    "            i += 1\n",
    "            array[i], array[j] = array[j], array[i]\n",
    "            \n",
    "    array[i + 1], array[high] = array[high], array[i + 1]\n",
    "    return i + 1"
   ]
  },
  {
   "cell_type": "code",
   "execution_count": 7,
   "metadata": {
    "collapsed": true
   },
   "outputs": [],
   "source": [
    "def quickSelect(A, left, right, k):\n",
    "    if left == right:\n",
    "        return A[left]\n",
    "    pivotIndex = partition(A, left, right)\n",
    "    \n",
    "    if k == pivotIndex:\n",
    "        return A[k]\n",
    "    elif k < pivotIndex:\n",
    "        return quickSelect(A, 1, pivotIndex-1,k)\n",
    "    else:\n",
    "        return quickSelect(A, pivotIndex+1,right, k - pivotIndex)"
   ]
  },
  {
   "cell_type": "code",
   "execution_count": 12,
   "metadata": {},
   "outputs": [
    {
     "data": {
      "text/plain": [
       "4"
      ]
     },
     "execution_count": 12,
     "metadata": {},
     "output_type": "execute_result"
    }
   ],
   "source": [
    "test_list = [8, 3, 6, 0, 1, 2, 7, 4]\n",
    "\n",
    "quickSelect(test_list[:], 0, len(test_list)-1, 6)"
   ]
  },
  {
   "cell_type": "code",
   "execution_count": null,
   "metadata": {
    "collapsed": true
   },
   "outputs": [],
   "source": []
  },
  {
   "cell_type": "code",
   "execution_count": null,
   "metadata": {
    "collapsed": true
   },
   "outputs": [],
   "source": []
  }
 ],
 "metadata": {
  "kernelspec": {
   "display_name": "Python 2",
   "language": "python",
   "name": "python2"
  },
  "language_info": {
   "codemirror_mode": {
    "name": "ipython",
    "version": 2
   },
   "file_extension": ".py",
   "mimetype": "text/x-python",
   "name": "python",
   "nbconvert_exporter": "python",
   "pygments_lexer": "ipython2",
   "version": "2.7.14"
  }
 },
 "nbformat": 4,
 "nbformat_minor": 2
}
