{
 "cells": [
  {
   "cell_type": "code",
   "execution_count": 3,
   "metadata": {
    "collapsed": true
   },
   "outputs": [],
   "source": [
    "import random"
   ]
  },
  {
   "cell_type": "markdown",
   "metadata": {},
   "source": [
    "## Question 1 - Randomized BST"
   ]
  },
  {
   "cell_type": "code",
   "execution_count": 4,
   "metadata": {
    "collapsed": true
   },
   "outputs": [],
   "source": [
    "class Node:\n",
    "    def __init__(self, val):\n",
    "        self.l_child = None\n",
    "        self.r_child = None\n",
    "        self.data = val\n",
    "        self.parent = None\n",
    "        self.left_of = 0\n",
    "    \n",
    "def insert(root, node):\n",
    "    if root is None:\n",
    "        root = node\n",
    "    else:\n",
    "        if root.data > node.data:\n",
    "            root.left_of += 1\n",
    "            if root.l_child is None:\n",
    "                root.l_child = node\n",
    "                node.parent = root\n",
    "            else:\n",
    "                insert(root.l_child, node)\n",
    "        else:\n",
    "            if root.r_child is None:\n",
    "                root.r_child = node\n",
    "                node.parent = root\n",
    "            else:\n",
    "                insert(root.r_child, node)\n",
    "    return root\n",
    "                \n",
    "def search(root, value):\n",
    "    if root == None or root.data == value:\n",
    "        return root\n",
    "    elif value < root.data:\n",
    "        return search(root.l_child, value)\n",
    "    else:\n",
    "        return search(root.r_child, value)\n",
    "\n",
    "def transplant(root, u1, u2):\n",
    "    if u1 == root:\n",
    "        root = u2\n",
    "    elif u1 == u1.parent.l_child:\n",
    "        u1.parent.l_child = u2\n",
    "    else:\n",
    "        u1.parent.r_child = u2  \n",
    "    if u2 != None:\n",
    "        u2.parent = u1.parent\n",
    "    \n",
    "def delete_node(root, node):        \n",
    "    if node.l_child == None:\n",
    "        transplant(root, node, node.r_child)\n",
    "    elif node.r_child == None:\n",
    "        transplant(root, node, node.l_child)\n",
    "    else:\n",
    "        y = tree_min(node.r_child)\n",
    "        if y.parent != node:\n",
    "            transplant(root, y, y.r_child)\n",
    "            y.r_child = node.r_child\n",
    "            y.r_child.parent = y\n",
    "        transplant(root, node, y)\n",
    "        y.l_child = node.l_child\n",
    "        y.l_child.parent = y\n",
    "        \n",
    "def tree_min(root):\n",
    "    while root.l_child:\n",
    "        root = root.l_child\n",
    "    return root\n",
    "\n",
    "def traversal(root):\n",
    "    if root != None:\n",
    "        traversal(root.l_child)\n",
    "        print root.data\n",
    "        traversal(root.r_child)"
   ]
  },
  {
   "cell_type": "code",
   "execution_count": 2,
   "metadata": {},
   "outputs": [
    {
     "ename": "NameError",
     "evalue": "name 'random' is not defined",
     "output_type": "error",
     "traceback": [
      "\u001b[0;31m---------------------------------------------------------------------------\u001b[0m",
      "\u001b[0;31mNameError\u001b[0m                                 Traceback (most recent call last)",
      "\u001b[0;32m<ipython-input-2-169058fa471a>\u001b[0m in \u001b[0;36m<module>\u001b[0;34m()\u001b[0m\n\u001b[1;32m      6\u001b[0m \u001b[0;34m\u001b[0m\u001b[0m\n\u001b[1;32m      7\u001b[0m \u001b[0;32mfor\u001b[0m \u001b[0mi\u001b[0m \u001b[0;32min\u001b[0m \u001b[0mrange\u001b[0m\u001b[0;34m(\u001b[0m\u001b[0;36m1\u001b[0m\u001b[0;34m,\u001b[0m\u001b[0;36m901\u001b[0m\u001b[0;34m)\u001b[0m\u001b[0;34m:\u001b[0m\u001b[0;34m\u001b[0m\u001b[0m\n\u001b[0;32m----> 8\u001b[0;31m     \u001b[0minsert\u001b[0m\u001b[0;34m(\u001b[0m\u001b[0mnonorder_tree\u001b[0m\u001b[0;34m,\u001b[0m \u001b[0mNode\u001b[0m\u001b[0;34m(\u001b[0m\u001b[0mrandom\u001b[0m\u001b[0;34m.\u001b[0m\u001b[0mrandint\u001b[0m\u001b[0;34m(\u001b[0m\u001b[0;36m1\u001b[0m\u001b[0;34m,\u001b[0m\u001b[0;36m901\u001b[0m\u001b[0;34m)\u001b[0m\u001b[0;34m)\u001b[0m\u001b[0;34m)\u001b[0m\u001b[0;34m\u001b[0m\u001b[0m\n\u001b[0m\u001b[1;32m      9\u001b[0m \u001b[0;34m\u001b[0m\u001b[0m\n\u001b[1;32m     10\u001b[0m \u001b[0;34m\u001b[0m\u001b[0m\n",
      "\u001b[0;31mNameError\u001b[0m: name 'random' is not defined"
     ]
    }
   ],
   "source": [
    "order_tree = Node(0)\n",
    "nonorder_tree = Node(0)\n",
    "counter = 0\n",
    "for i in range(1,901):\n",
    "    insert(order_tree, Node(i))\n",
    "    \n",
    "for i in range(1,901):\n",
    "    insert(nonorder_tree, Node(random.randint(1,901)))\n",
    "    \n",
    "\n",
    "\n",
    "print \"Treemin \" + str(tree_min(order_tree).data)\n",
    "print \"Searching for 10 \" + str(search(order_tree, 10).data)\n",
    "print \"---------------\"\n",
    "# print \"Traversal \" + str(traversal(tree))"
   ]
  },
  {
   "cell_type": "markdown",
   "metadata": {},
   "source": [
    "## Question 2 - Average number of comparisons"
   ]
  },
  {
   "cell_type": "code",
   "execution_count": 88,
   "metadata": {
    "collapsed": true
   },
   "outputs": [],
   "source": [
    "def search_avg_comparisons(root, value, counter):    \n",
    "    if root == None or root.data == value:\n",
    "        counter += 1\n",
    "        return counter\n",
    "    elif value < root.data:\n",
    "        counter += 1\n",
    "        return search_avg_comparisons(root.l_child, value, counter)\n",
    "    else:\n",
    "        counter += 1\n",
    "        return search_avg_comparisons(root.r_child, value, counter)"
   ]
  },
  {
   "cell_type": "code",
   "execution_count": 90,
   "metadata": {},
   "outputs": [
    {
     "name": "stdout",
     "output_type": "stream",
     "text": [
      "Calculating average number of comparisons for tree: \n",
      "Average num of comparisons: \n",
      "12.615\n",
      "This is something around the order of log_2(n).\n"
     ]
    }
   ],
   "source": [
    "print \"Calculating average number of comparisons for tree: \"\n",
    "avg_counter = 0\n",
    "for i in range(200):\n",
    "    search_item = random.randint(0,901)\n",
    "    avg_counter = search_avg_comparisons(nonorder_tree, search_item, avg_counter)\n",
    "print \"Average num of comparisons: \"\n",
    "print avg_counter/200.0\n",
    "print \"This is something around the order of log_2(n).\""
   ]
  },
  {
   "cell_type": "markdown",
   "metadata": {},
   "source": [
    "## Question 3 - Max and average tree height"
   ]
  },
  {
   "cell_type": "code",
   "execution_count": 91,
   "metadata": {
    "collapsed": true
   },
   "outputs": [],
   "source": [
    "def max_height(bst):\n",
    "    if bst is None:\n",
    "        return 0\n",
    "    return 1+max(max_height(bst.l_child), max_height(bst.r_child))\n",
    "\n",
    "\n",
    "def min_height(bst):\n",
    "    if bst is None:\n",
    "        return 0\n",
    "    return 1+ min(min_height(bst.l_child), min_height(bst.r_child))    \n",
    "\n",
    "\n",
    "def avg_height(root, trials): \n",
    "    direction = [\"left\", \"right\"]\n",
    "    height = 0\n",
    "\n",
    "    for i in range(trials):\n",
    "        temp_root = root\n",
    "        while temp_root:\n",
    "            dir_pick = direction[random.randint(0, 1)]\n",
    "            if dir_pick == \"right\" and temp_root.r_child != None:\n",
    "                temp_root = temp_root.r_child\n",
    "                height += 1\n",
    "            elif dir_pick == \"left\" and temp_root.l_child != None:\n",
    "                temp_root = temp_root.l_child\n",
    "                height += 1\n",
    "            else:\n",
    "                temp_root = None\n",
    "\n",
    "    return float(height)/trials"
   ]
  },
  {
   "cell_type": "code",
   "execution_count": 94,
   "metadata": {},
   "outputs": [
    {
     "name": "stdout",
     "output_type": "stream",
     "text": [
      "Calculating max height of tree: \n",
      "Max height order_tree: 900\n",
      "Max height nonorder_tree: 10\n",
      "Calculating average height of tree out of 50 trials: \n",
      "Average height order_tree: 1.132\n",
      "Average height nonorder_tree: 3.9\n"
     ]
    }
   ],
   "source": [
    "print \"Calculating max height of tree: \"\n",
    "max_order = 0\n",
    "max_order = max_height(order_tree)\n",
    "max_nonorder = 0\n",
    "max_nonorder = max_height(nonorder_tree)\n",
    "\n",
    "print \"Max height order_tree: \" + str(max_order)\n",
    "print \"Max height nonorder_tree: \" + str(max_nonorder)\n",
    "\n",
    "print \"Calculating average height of tree out of 50 trials: \"\n",
    "trials = 500\n",
    "avg_order = 0\n",
    "avg_order = avg_height(order_tree, trials)\n",
    "avg_nonorder = 0\n",
    "avg_nonorder = avg_height(nonorder_tree, trials)\n",
    "\n",
    "print \"Average height order_tree: \" + str(avg_order)\n",
    "print \"Average height nonorder_tree: \" + str(avg_nonorder)"
   ]
  },
  {
   "cell_type": "markdown",
   "metadata": {},
   "source": [
    "## Question 4 - Select/Rank "
   ]
  },
  {
   "cell_type": "code",
   "execution_count": 17,
   "metadata": {
    "collapsed": true
   },
   "outputs": [],
   "source": [
    "def select(root, k):\n",
    "    if root.left_of > k:\n",
    "        return select(root.l_child, k)\n",
    "    elif root.left_of < k:\n",
    "        return select(root.r_child, k - root.left_of - 1)\n",
    "    else:\n",
    "        return root.data\n",
    "    \n",
    "def rank(root, value):\n",
    "    if root is None:\n",
    "        raise ValueError\n",
    "    if root.data == value:\n",
    "        return root.left_of\n",
    "    if root.data < value:\n",
    "        return rank(root.r_child, value) + 1 + root.left_of\n",
    "    if root.data > val:\n",
    "        return rank(root.l_child, value)"
   ]
  },
  {
   "cell_type": "code",
   "execution_count": 18,
   "metadata": {},
   "outputs": [
    {
     "name": "stdout",
     "output_type": "stream",
     "text": [
      "63\n",
      "9\n",
      "10\n",
      "27\n",
      "33\n",
      "34\n",
      "37\n",
      "42\n",
      "47\n",
      "50\n",
      "60\n",
      "63\n",
      "67\n",
      "79\n",
      "89\n",
      "91\n",
      "92\n",
      "96\n",
      "None\n"
     ]
    }
   ],
   "source": [
    "tree_new = Node(63)\n",
    "for i in range(15):\n",
    "    insert(tree_new, Node(random.randint(0,100)))\n",
    "\n",
    "print tree_new.data\n",
    "print(tree_new.left_of)\n",
    "print traversal(tree_new)"
   ]
  },
  {
   "cell_type": "code",
   "execution_count": 19,
   "metadata": {},
   "outputs": [
    {
     "name": "stdout",
     "output_type": "stream",
     "text": [
      "67\n",
      "10\n"
     ]
    }
   ],
   "source": [
    "print select(tree_new, 10)\n",
    "print rank(tree_new, select(tree_new, 10))"
   ]
  }
 ],
 "metadata": {
  "kernelspec": {
   "display_name": "Python 2",
   "language": "python",
   "name": "python2"
  },
  "language_info": {
   "codemirror_mode": {
    "name": "ipython",
    "version": 2
   },
   "file_extension": ".py",
   "mimetype": "text/x-python",
   "name": "python",
   "nbconvert_exporter": "python",
   "pygments_lexer": "ipython2",
   "version": "2.7.14"
  }
 },
 "nbformat": 4,
 "nbformat_minor": 2
}
