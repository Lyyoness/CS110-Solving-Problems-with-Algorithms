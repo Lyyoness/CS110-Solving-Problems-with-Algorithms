{
 "cells": [
  {
   "cell_type": "code",
   "execution_count": 4,
   "metadata": {
    "collapsed": true
   },
   "outputs": [],
   "source": [
    "import numpy as np\n",
    "import random\n",
    "import heapq\n",
    "import timeit\n",
    "import time"
   ]
  },
  {
   "cell_type": "code",
   "execution_count": 5,
   "metadata": {
    "collapsed": true
   },
   "outputs": [],
   "source": [
    "##Insertion Sort\n",
    "\n",
    "def insertion_sort(array):\n",
    "    for j in range(1, len(array)): \n",
    "        key = array[j] \n",
    "        i = j - 1 \n",
    "        \n",
    "        while i >= 0 and array[i] > key: \n",
    "            array[i + 1] = array[i] \n",
    "            i -= 1 \n",
    "            \n",
    "        array[i + 1] = key\n",
    "        \n",
    "    return array"
   ]
  },
  {
   "cell_type": "markdown",
   "metadata": {},
   "source": [
    "Basic merge-sort code taken from https://www.geeksforgeeks.org/merge-sort/\n",
    "\n",
    "Collaborated on the following functions with Anna Pauxberger."
   ]
  },
  {
   "cell_type": "code",
   "execution_count": 6,
   "metadata": {
    "collapsed": true
   },
   "outputs": [],
   "source": [
    "## 3-way Merge Sort\n",
    "\n",
    "def three_way_merge_sort(array):\n",
    "    if len(array) >= 3:\n",
    "        start = 0\n",
    "        end = len(array) // 3\n",
    "    \n",
    "        left = three_merge_sort(array[:end])\n",
    "        middle = three_merge_sort(array[end:end * 2])\n",
    "        right = three_merge_sort(array[end * 2:])\n",
    "    \n",
    "        array = [x for x in heapq.merge(left, middle, right)]\n",
    "    \n",
    "    elif len(array) == 2:\n",
    "        if array[0] > array[1]:\n",
    "            array[0], array[1] = array[1], array[0]\n",
    "            \n",
    "    else:\n",
    "        return array\n",
    "\n",
    "    return array"
   ]
  },
  {
   "cell_type": "markdown",
   "metadata": {},
   "source": [
    "The k-way merge function uses heapq.merge() on the different sublists that are generated in the loop to merge them back in order once they are sorted individually. I used heapq instead of a manually written merge function, since it can easily be expanded to work for any value of k (and writing a k-way merge function proved to be more difficult than I wanted the scope of my optional answer to be).\n",
    "\n",
    "\n",
    "Similarly, I used the heapq.merge() function for my three-way sort, since I could not resist the beauty of such a simple solution (rather than manually comparing all three stacks against each other each time)."
   ]
  },
  {
   "cell_type": "code",
   "execution_count": 8,
   "metadata": {
    "collapsed": true
   },
   "outputs": [],
   "source": [
    "## k-way Merge Sort\n",
    "\n",
    "def k_way_merge_sort(array, k):\n",
    "    # sublist_end?\n",
    "    if len(array) > 3*k:\n",
    "        end = len(array)//k\n",
    "    \n",
    "        # for cases where len(a)//k would round to 0\n",
    "        if end == 0:\n",
    "            end = 1\n",
    "\n",
    "            list_of_sublists = []\n",
    "\n",
    "            for i in range(k):\n",
    "                sublist = k_way_merge_sort(array[end*(i):end*(i+1)], k)\n",
    "                list_of_sublists.append(sublist)\n",
    "\n",
    "            array = [x for x in heapq.merge(*list_of_sublists)]\n",
    "\n",
    "    else:\n",
    "        array.sort()\n",
    "#         array = insertion_sort(array)\n",
    "\n",
    "    return array"
   ]
  },
  {
   "cell_type": "code",
   "execution_count": 9,
   "metadata": {},
   "outputs": [
    {
     "name": "stdout",
     "output_type": "stream",
     "text": [
      "[[  1.09672546e-05   4.60147858e-05   7.35998154e-04   4.54115868e-03\n",
      "    6.24229908e-02]\n",
      " [  1.28746033e-05   3.09944153e-05   4.58955765e-04   6.51597977e-03\n",
      "    7.12130070e-02]\n",
      " [  1.19209290e-05   3.98159027e-05   4.70876694e-04   5.84506989e-03\n",
      "    6.83619976e-02]\n",
      " [  1.21593475e-05   2.00271606e-05   5.82218170e-04   6.65497780e-03\n",
      "    7.96041489e-02]\n",
      " [  1.50203705e-05   4.69684601e-05   8.56876373e-04   5.62500954e-03\n",
      "    6.59849644e-02]\n",
      " [  2.69412994e-05   2.00271606e-05   5.08069992e-04   6.30497932e-03\n",
      "    6.63280487e-02]\n",
      " [  2.59876251e-05   2.09808350e-05   6.24179840e-04   6.72602654e-03\n",
      "    6.74571991e-02]\n",
      " [  2.69412994e-05   2.59876251e-05   5.01871109e-04   5.63406944e-03\n",
      "    6.38780594e-02]\n",
      " [  2.50339508e-05   2.21967697e-04   4.42028046e-04   6.07991219e-03\n",
      "    7.48710632e-02]\n",
      " [  3.00407410e-05   2.43902206e-04   4.73976135e-04   6.25205040e-03\n",
      "    6.96790218e-02]]\n"
     ]
    }
   ],
   "source": [
    "## Data collection\n",
    "sample_time = np.zeros([10,5])\n",
    "\n",
    "\n",
    "def data_collection(array):\n",
    "    col = 0\n",
    "    row = 0\n",
    "\n",
    "    #iterating over a range of k values and the corresponding\n",
    "    #sample sizes to record the times it takes to sort them\n",
    "    for k_exp in range(1, 11):\n",
    "        k = 2 ** k_exp\n",
    "\n",
    "        for s_exp in range(2, 7):\n",
    "            sample = 10 ** s_exp\n",
    "            sample_array = random.sample(range(1, sample*10), sample)\n",
    "        \n",
    "            #timing function to call in timeit.timeit\n",
    "            def merge_timing():\n",
    "                k_way_merge_sort(sample_array[:],k)\n",
    "\n",
    "\n",
    "            array[row][col] = timeit.timeit(merge_timing, number=1)\n",
    "            col += 1 \n",
    "        \n",
    "        col = 0\n",
    "        row += 1\n",
    "            \n",
    "    return array\n",
    "\n",
    "print (data_collection(sample_time))"
   ]
  },
  {
   "cell_type": "code",
   "execution_count": null,
   "metadata": {
    "collapsed": true
   },
   "outputs": [],
   "source": []
  }
 ],
 "metadata": {
  "kernelspec": {
   "display_name": "Python 2",
   "language": "python",
   "name": "python2"
  },
  "language_info": {
   "codemirror_mode": {
    "name": "ipython",
    "version": 2
   },
   "file_extension": ".py",
   "mimetype": "text/x-python",
   "name": "python",
   "nbconvert_exporter": "python",
   "pygments_lexer": "ipython2",
   "version": "2.7.14"
  }
 },
 "nbformat": 4,
 "nbformat_minor": 2
}
