{
 "cells": [
  {
   "cell_type": "code",
   "execution_count": 2,
   "metadata": {
    "collapsed": true
   },
   "outputs": [],
   "source": [
    "import random"
   ]
  },
  {
   "cell_type": "markdown",
   "metadata": {},
   "source": [
    "## Question 1 - Randomized BST"
   ]
  },
  {
   "cell_type": "code",
   "execution_count": 3,
   "metadata": {
    "collapsed": true
   },
   "outputs": [],
   "source": [
    "class Node:\n",
    "    def __init__(self, val):\n",
    "        self.l_child = None\n",
    "        self.r_child = None\n",
    "        self.data = val\n",
    "        self.parent = None\n",
    "    \n",
    "def insert(root, node):\n",
    "    if root is None:\n",
    "        root = node\n",
    "    else:\n",
    "        if root.data > node.data:\n",
    "            if root.l_child is None:\n",
    "                root.l_child = node\n",
    "                node.parent = root\n",
    "            else:\n",
    "                insert(root.l_child, node)\n",
    "        else:\n",
    "            if root.r_child is None:\n",
    "                root.r_child = node\n",
    "                node.parent = root\n",
    "            else:\n",
    "                insert(root.r_child, node)\n",
    "    return root\n",
    "                \n",
    "def search(root, value):\n",
    "    if root == None or root.data == value:\n",
    "        return root\n",
    "    elif value < root.data:\n",
    "        return search(root.l_child, value)\n",
    "    else:\n",
    "        return search(root.r_child, value)\n",
    "\n",
    "def transplant(root, u1, u2):\n",
    "    if u1 == root:\n",
    "        root = u2\n",
    "    elif u1 == u1.parent.l_child:\n",
    "        u1.parent.l_child = u2\n",
    "    else:\n",
    "        u1.parent.r_child = u2  \n",
    "    if u2 != None:\n",
    "        u2.parent = u1.parent\n",
    "    \n",
    "def delete_node(root, node):        \n",
    "    if node.l_child == None:\n",
    "        transplant(root, node, node.r_child)\n",
    "    elif node.r_child == None:\n",
    "        transplant(root, node, node.l_child)\n",
    "    else:\n",
    "        y = tree_min(node.r_child)\n",
    "        if y.parent != node:\n",
    "            transplant(root, y, y.r_child)\n",
    "            y.r_child = node.r_child\n",
    "            y.r_child.parent = y\n",
    "        transplant(root, node, y)\n",
    "        y.l_child = node.l_child\n",
    "        y.l_child.parent = y\n",
    "        \n",
    "def tree_min(root):\n",
    "    while root.l_child:\n",
    "        root = root.l_child\n",
    "    return root\n",
    "\n",
    "def traversal(root):\n",
    "    if root != None:\n",
    "        traversal(root.l_child)\n",
    "        print root.data\n",
    "        traversal(root.r_child)"
   ]
  },
  {
   "cell_type": "code",
   "execution_count": 87,
   "metadata": {},
   "outputs": [
    {
     "name": "stdout",
     "output_type": "stream",
     "text": [
      "Treemin 0\n",
      "Searching for 10 10\n",
      "---------------\n"
     ]
    }
   ],
   "source": [
    "order_tree = Node(0)\n",
    "nonorder_tree = Node(0)\n",
    "counter = 0\n",
    "for i in range(1,901):\n",
    "    insert(order_tree, Node(i))\n",
    "    \n",
    "for i in range(1,901):\n",
    "    insert(nonorder_tree, Node(random.randint(1,901)))\n",
    "    \n",
    "\n",
    "\n",
    "print \"Treemin \" + str(tree_min(order_tree).data)\n",
    "print \"Searching for 10 \" + str(search(order_tree, 10).data)\n",
    "print \"---------------\"\n",
    "# print \"Traversal \" + str(traversal(tree))"
   ]
  },
  {
   "cell_type": "markdown",
   "metadata": {},
   "source": [
    "## Question 2 - Average number of comparisons"
   ]
  },
  {
   "cell_type": "code",
   "execution_count": 88,
   "metadata": {
    "collapsed": true
   },
   "outputs": [],
   "source": [
    "def search_avg_comparisons(root, value, counter):    \n",
    "    if root == None or root.data == value:\n",
    "        counter += 1\n",
    "        return counter\n",
    "    elif value < root.data:\n",
    "        counter += 1\n",
    "        return search_avg_comparisons(root.l_child, value, counter)\n",
    "    else:\n",
    "        counter += 1\n",
    "        return search_avg_comparisons(root.r_child, value, counter)"
   ]
  },
  {
   "cell_type": "code",
   "execution_count": 90,
   "metadata": {},
   "outputs": [
    {
     "name": "stdout",
     "output_type": "stream",
     "text": [
      "Calculating average number of comparisons for tree: \n",
      "Average num of comparisons: \n",
      "12.615\n",
      "This is something around the order of log_2(n).\n"
     ]
    }
   ],
   "source": [
    "print \"Calculating average number of comparisons for tree: \"\n",
    "avg_counter = 0\n",
    "for i in range(200):\n",
    "    search_item = random.randint(0,901)\n",
    "    avg_counter = search_avg_comparisons(nonorder_tree, search_item, avg_counter)\n",
    "print \"Average num of comparisons: \"\n",
    "print avg_counter/200.0\n",
    "print \"This is something around the order of log_2(n).\""
   ]
  },
  {
   "cell_type": "markdown",
   "metadata": {},
   "source": [
    "## Question 3 - Max and average tree height"
   ]
  },
  {
   "cell_type": "code",
   "execution_count": 91,
   "metadata": {
    "collapsed": true
   },
   "outputs": [],
   "source": [
    "def max_height(root):\n",
    "    r_height = 0\n",
    "    while root.r_child:\n",
    "        root = root.r_child\n",
    "        r_height += 1\n",
    "    \n",
    "    l_height = 0\n",
    "    while root.l_child:\n",
    "        root = root.l_child\n",
    "        l_height += 1 \n",
    "    return max(r_height, l_height)    \n",
    "\n",
    "\n",
    "def avg_height(root, trials): \n",
    "    direction = [\"left\", \"right\"]\n",
    "    height = 0\n",
    "\n",
    "    for i in range(trials):\n",
    "        temp_root = root\n",
    "        while temp_root:\n",
    "            dir_pick = direction[random.randint(0, 1)]\n",
    "            if dir_pick == \"right\" and temp_root.r_child != None:\n",
    "                temp_root = temp_root.r_child\n",
    "                height += 1\n",
    "            elif dir_pick == \"left\" and temp_root.l_child != None:\n",
    "                temp_root = temp_root.l_child\n",
    "                height += 1\n",
    "            else:\n",
    "                temp_root = None\n",
    "\n",
    "    return float(height)/trials"
   ]
  },
  {
   "cell_type": "code",
   "execution_count": 94,
   "metadata": {},
   "outputs": [
    {
     "name": "stdout",
     "output_type": "stream",
     "text": [
      "Calculating max height of tree: \n",
      "Max height order_tree: 900\n",
      "Max height nonorder_tree: 10\n",
      "Calculating average height of tree out of 50 trials: \n",
      "Average height order_tree: 1.132\n",
      "Average height nonorder_tree: 3.9\n"
     ]
    }
   ],
   "source": [
    "print \"Calculating max height of tree: \"\n",
    "max_order = 0\n",
    "max_order = max_height(order_tree)\n",
    "max_nonorder = 0\n",
    "max_nonorder = max_height(nonorder_tree)\n",
    "\n",
    "print \"Max height order_tree: \" + str(max_order)\n",
    "print \"Max height nonorder_tree: \" + str(max_nonorder)\n",
    "\n",
    "print \"Calculating average height of tree out of 50 trials: \"\n",
    "trials = 500\n",
    "avg_order = 0\n",
    "avg_order = avg_height(order_tree, trials)\n",
    "avg_nonorder = 0\n",
    "avg_nonorder = avg_height(nonorder_tree, trials)\n",
    "\n",
    "print \"Average height order_tree: \" + str(avg_order)\n",
    "print \"Average height nonorder_tree: \" + str(avg_nonorder)"
   ]
  },
  {
   "cell_type": "markdown",
   "metadata": {},
   "source": [
    "## Question 4 - Select/Rank "
   ]
  }
 ],
 "metadata": {
  "kernelspec": {
   "display_name": "Python 2",
   "language": "python",
   "name": "python2"
  },
  "language_info": {
   "codemirror_mode": {
    "name": "ipython",
    "version": 2
   },
   "file_extension": ".py",
   "mimetype": "text/x-python",
   "name": "python",
   "nbconvert_exporter": "python",
   "pygments_lexer": "ipython2",
   "version": "2.7.14"
  }
 },
 "nbformat": 4,
 "nbformat_minor": 2
}
