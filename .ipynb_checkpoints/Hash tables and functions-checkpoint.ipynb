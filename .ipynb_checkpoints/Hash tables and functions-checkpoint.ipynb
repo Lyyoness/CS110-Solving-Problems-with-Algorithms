{
 "cells": [
  {
   "cell_type": "code",
   "execution_count": null,
   "metadata": {},
   "outputs": [],
   "source": [
    "import string\n",
    "import random\n",
    "import numpy\n",
    "import time\n",
    "\n",
    "\n",
    "def da_search(T,k):\n",
    "    return T[k]\n",
    "\n",
    "def da_insert(T,x):\n",
    "    # T[key[x]] = x\n",
    "    T[x] = x\n",
    "    \n",
    "def da_delete(T,x):\n",
    "    T[x] = None\n",
    "    \n",
    "def word_generator(array, arr_len, size = 4, chars=string.ascii_lowercase):\n",
    "    for i in range(0,arr_len-1):\n",
    "        array[i] = ''.join(random.choice(chars) for _ in range(size))\n",
    "    return array\n",
    "\n",
    "def empty_guesses(n):\n",
    "    array = numpy.zeros(shape = (n,1))\n",
    "    return array"
   ]
  },
  {
   "cell_type": "markdown",
   "metadata": {},
   "source": [
    "**Direct Address Tables:**\\ As the first step in setting up a crossword solving algorithm you need to create 2 direct address tables, one to store all \\ the “up” answers-whether correct or not-and one to store all the “across” answers. Write some code to create a direct address table that allows you:\n",
    "\n",
    "1. initialize N empty guesses\n",
    "1. set a guess for the i-th entry\n",
    "1. clear an incorrect guess for the i-th entry\n",
    "\n",
    "**Social Security:**\n",
    "\n",
    "Could we use a direct address table to store a country's entire set of social\\ security numbers (aka id numbers)? Why or why not?"
   ]
  },
  {
   "cell_type": "code",
   "execution_count": null,
   "metadata": {},
   "outputs": [],
   "source": [
    "up_answers = empty_guesses(5)\n",
    "across_answers = empty_guesses(5)\n",
    "\n",
    "up_answers = word_generator(up_answers, 5)\n",
    "across_answers = word_generator(across_answers, 5)\n",
    "\n",
    "up_guess = \"helo\"\n",
    "def check_guess(table, i, guess):\n",
    "    if table[i] == guess:\n",
    "        return True\n",
    "    \n",
    "check_guess(up_answers, 4, up_guess)"
   ]
  },
  {
   "cell_type": "markdown",
   "metadata": {},
   "source": [
    "**Chained Hash-table**\n",
    "\n",
    "Using the code from: https://gist.github.com/philip-sterne/47ff8a8e38e6f7b4ecc5733d13d86372, do the following:\n",
    "\n",
    "1. Complete the missing sections of code\n",
    "1. Using the code, create 100,000 words of 10 characters each.\n",
    "1. Create four chained hash-tables with 5000 slots.\n",
    "1. Store all the words in each chained hash table using each of the different hash functions.\n",
    "1. Measure the number of collisions for each hash function.\n",
    "1. For each of the hash functions, how many elements are in a bucket on average (if it is not empty)?\n",
    "1. Time how long it take to find elements that are in each hash table.\n",
    "1. For each hash table, time how long it takes to find 10,000 elements that have not been stored."
   ]
  },
  {
   "cell_type": "code",
   "execution_count": null,
   "metadata": {
    "collapsed": true
   },
   "outputs": [],
   "source": [
    "import random\n",
    "import string\n",
    "\n",
    "\n",
    "def randomword(length):\n",
    "    return ''.join(random.choice(string.lowercase) for i in range(length))\n",
    "\n",
    "\n",
    "def empty_hash_table(N):\n",
    "    return [[] for n in range(N)]\n",
    "\n",
    "\n",
    "def add_to_hash_table(hash_table, item, hash_function):\n",
    "    N = len(hash_table)\n",
    "    hash_table[hash_function(item)%N].append(item)\n",
    "    \n",
    "    return hash_table\n",
    "\n",
    "\n",
    "def contains(hash_table, item, hash_function):\n",
    "    N = len(hash_table)\n",
    "    \n",
    "    key_to_check = hash_function(item)%N\n",
    "    \n",
    "    #this allows for multiple items to be checked\n",
    "    for i in hash_table[key_to_check]:\n",
    "        if i == item:\n",
    "            return True\n",
    "        else:\n",
    "            return False\n",
    "\n",
    "def remove(hash_table, item, hash_function):\n",
    "    if not contains(hash_table, item, hash_function):\n",
    "        raise ValueError()\n",
    "    N = len(hash_table)\n",
    "        \n",
    "    key_to_check = hash_function(item)%N\n",
    "    \n",
    "    for i in hash_table[key_to_check]:\n",
    "        if i == item:\n",
    "            hash_table[key_to_check[i]] = None\n",
    "\n",
    "    return hash_table\n",
    "\n",
    "\n",
    "def hash_str1(string):\n",
    "    ans = 0\n",
    "    for chr in string:\n",
    "        ans += ord(chr)\n",
    "    return ans\n",
    "\n",
    "\n",
    "def hash_str2(string):\n",
    "    ans = 0\n",
    "    for chr in string:\n",
    "        ans = ans ^ ord(chr)\n",
    "    return ans\n",
    "\n",
    "\n",
    "def hash_str3(string):\n",
    "    ans = 0\n",
    "    for chr in string:\n",
    "        ans = ans * 128 + ord(chr)\n",
    "    return ans\n",
    "\n",
    "\n",
    "def hash_str4(string):\n",
    "    random.seed(ord(string[0]))\n",
    "    return random.getrandbits(32)"
   ]
  },
  {
   "cell_type": "markdown",
   "metadata": {},
   "source": [
    "Question 2: Generate list"
   ]
  },
  {
   "cell_type": "code",
   "execution_count": null,
   "metadata": {},
   "outputs": [],
   "source": [
    "list_of_words = [randomword(100) for i in range(100000)]"
   ]
  },
  {
   "cell_type": "markdown",
   "metadata": {},
   "source": [
    "Question 3: Create four chained hash-tables with 5000 slots."
   ]
  },
  {
   "cell_type": "code",
   "execution_count": null,
   "metadata": {
    "collapsed": true
   },
   "outputs": [],
   "source": [
    "hash_tables = [chained_hash_table_1, chained_hash_table_2, \n",
    "              chained_hash_table_3, chained_hash_table_4]\n",
    "\n",
    "for table in hash_tables:\n",
    "    table = empty_hash_table(5000)"
   ]
  },
  {
   "cell_type": "markdown",
   "metadata": {},
   "source": [
    "Question 4: Store all the words in each chained hash table using each of the different hash functions."
   ]
  },
  {
   "cell_type": "code",
   "execution_count": null,
   "metadata": {},
   "outputs": [],
   "source": [
    "hash_functions = [hash_str1, hash_str2, hash_str3, hash_str4]\n",
    "\n",
    "function_counter = -1\n",
    "for table in hash_tables:\n",
    "    function_counter += 1\n",
    "    for item in list_of_words:\n",
    "        table = add_to_hash_table(table, item,\n",
    "                                  hash_functions[function_counter])\n"
   ]
  },
  {
   "cell_type": "markdown",
   "metadata": {},
   "source": [
    "Question 5: Measure the number of collisions for each hash function."
   ]
  },
  {
   "cell_type": "code",
   "execution_count": null,
   "metadata": {},
   "outputs": [],
   "source": [
    "def collision_counter(hash_table):\n",
    "    collisions = 0\n",
    "    for bucket in hash_table:\n",
    "        bucket_len = len(bucket)\n",
    "        if bucket_len > 1:\n",
    "            collisions += bucket_len -1\n",
    "    print collisions\n",
    "    \n",
    "collision_counter(chained_hash_table_1)\n",
    "collision_counter(chained_hash_table_2)\n",
    "collision_counter(chained_hash_table_3)\n",
    "collision_counter(chained_hash_table_4)"
   ]
  },
  {
   "cell_type": "markdown",
   "metadata": {},
   "source": [
    "Question 6: For each of the hash functions, how many elements are in a bucket on average (if it is not empty)?"
   ]
  },
  {
   "cell_type": "code",
   "execution_count": null,
   "metadata": {},
   "outputs": [],
   "source": [
    "def average_element_counter(hash_table):\n",
    "    average_len = numpy.average([len(bucket) for bucket in hash_table])\n",
    "    print average_len\n",
    "    \n",
    "average_element_counter(chained_hash_table_1)\n",
    "average_element_counter(chained_hash_table_2)\n",
    "average_element_counter(chained_hash_table_3)\n",
    "average_element_counter(chained_hash_table_4)"
   ]
  },
  {
   "cell_type": "markdown",
   "metadata": {},
   "source": [
    "Question 7: Time how long it take to find elements that are in each hash table."
   ]
  },
  {
   "cell_type": "code",
   "execution_count": null,
   "metadata": {},
   "outputs": [],
   "source": [
    "function_counter = -1\n",
    "for table in hash_tables:\n",
    "    start = time.time()\n",
    "    function_counter += 1\n",
    "    for item in list_of_words:\n",
    "        contains(table, item, hash_functions[function_counter])\n",
    "        \n",
    "    end = time.time()\n",
    "    print end-start\n"
   ]
  },
  {
   "cell_type": "markdown",
   "metadata": {},
   "source": [
    "Question 8: For each hash table, time how long it takes to find 10,000 elements that have not been stored."
   ]
  },
  {
   "cell_type": "code",
   "execution_count": null,
   "metadata": {},
   "outputs": [],
   "source": [
    "wrong_guess = []\n",
    "\n",
    "for i in range(0,100000):\n",
    "       wrong_guess.append(randomword(99))\n",
    "\n",
    "function_counter = -1\n",
    "for table in hash_tables:\n",
    "    start = time.time()\n",
    "    function_counter += 1\n",
    "    for item in wrong_guess:\n",
    "        contains(table, item, hash_functions[function_counter])\n",
    "        \n",
    "    end = time.time()\n",
    "    print end-start"
   ]
  },
  {
   "cell_type": "code",
   "execution_count": null,
   "metadata": {
    "collapsed": true
   },
   "outputs": [],
   "source": []
  }
 ],
 "metadata": {
  "kernelspec": {
   "display_name": "Python 2",
   "language": "python",
   "name": "python2"
  },
  "language_info": {
   "codemirror_mode": {
    "name": "ipython",
    "version": 2
   },
   "file_extension": ".py",
   "mimetype": "text/x-python",
   "name": "python",
   "nbconvert_exporter": "python",
   "pygments_lexer": "ipython2",
   "version": "2.7.14"
  }
 },
 "nbformat": 4,
 "nbformat_minor": 2
}
