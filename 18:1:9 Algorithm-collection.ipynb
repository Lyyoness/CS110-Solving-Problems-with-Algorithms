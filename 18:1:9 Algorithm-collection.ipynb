{
 "cells": [
  {
   "cell_type": "code",
   "execution_count": 1,
   "metadata": {
    "collapsed": true
   },
   "outputs": [],
   "source": [
    "import timeit\n",
    "import random\n",
    "from random import randint\n",
    "import math"
   ]
  },
  {
   "cell_type": "code",
   "execution_count": null,
   "metadata": {
    "collapsed": true
   },
   "outputs": [],
   "source": [
    "##Repetition function\n",
    "def rand_list(m):\n",
    "    lis = []\n",
    "    for _ in xrange(m):\n",
    "        lis.append(randint(-100,100))\n",
    "    return lis\n",
    "\n",
    "m = 3\n",
    "n = 4\n",
    "\n",
    "def repetition(f, start_m, repetition_n):\n",
    "    lis = []\n",
    "    initial_list = f(start_m)\n",
    "    for n in range(1,repetition_n):\n",
    "        lis.append(initial_list*n)\n",
    "    print lis\n",
    "    \n",
    "repetition(rand_list, m, n)"
   ]
  },
  {
   "cell_type": "code",
   "execution_count": null,
   "metadata": {
    "collapsed": true
   },
   "outputs": [],
   "source": [
    "##Bubble sort\n",
    "def bubble(array):\n",
    "    counter = 0\n",
    "    for i in range(len(array)):\n",
    "        for j in range(0, (len(array))-i-1):\n",
    "            if array[j] > array[j+1]:\n",
    "                counter += 1\n",
    "                array[j], array[j+1] = array[j+1], array[j]\n",
    "#     print counter\n",
    "    return array"
   ]
  },
  {
   "cell_type": "code",
   "execution_count": null,
   "metadata": {
    "collapsed": true
   },
   "outputs": [],
   "source": [
    "##Insertion sort\n",
    "def insertion(array):\n",
    "    counter = 0\n",
    "    for j in range(1, len(array)): \n",
    "        counter += 1\n",
    "        key = array[j] \n",
    "        i = j - 1 \n",
    "        while i >= 0 and array[i] > key: \n",
    "            counter += 1\n",
    "            array[i + 1] = array[i] \n",
    "            i -= 1 \n",
    "        array[i + 1] = key\n",
    "#     print counter\n",
    "    return array"
   ]
  },
  {
   "cell_type": "code",
   "execution_count": null,
   "metadata": {
    "collapsed": true
   },
   "outputs": [],
   "source": [
    "##Selection sort\n",
    "def selection(array):\n",
    "    counter = 0\n",
    "    for slot in range(len(array) - 1, 0, -1):\n",
    "        maxx = 0 \n",
    "        counter += 1\n",
    "        for x in range(1, slot + 1):\n",
    "            counter += 1\n",
    "            if array[x] > array[maxx]:\n",
    "                maxx = x\n",
    "                counter += 1\n",
    "                \n",
    "        temp = array[slot]\n",
    "        counter += 1\n",
    "        array[slot] = array[maxx]\n",
    "        counter += 1\n",
    "        array[maxx] = temp\n",
    "        counter += 1\n",
    "#     print counter\n",
    "    return array"
   ]
  },
  {
   "cell_type": "code",
   "execution_count": null,
   "metadata": {
    "collapsed": true
   },
   "outputs": [],
   "source": [
    "## Shell sort (calling insertion sort)\n",
    "def shell_sort(array): \n",
    "    interval = len(array)/10\n",
    "    counter = 0\n",
    "    while interval > 0: \n",
    "        for count in range(interval):\n",
    "            array[count::interval] = insertion(array[count::interval])\n",
    "            counter += 1\n",
    "        interval = int(interval/2)\n",
    "#     print counter\n",
    "    return array"
   ]
  },
  {
   "cell_type": "code",
   "execution_count": null,
   "metadata": {
    "collapsed": true
   },
   "outputs": [],
   "source": [
    "## Merge sort (calling the merge function)\n",
    "def merge(L,R):\n",
    "    i = 0\n",
    "    j = 0\n",
    "    array = []\n",
    "    L.append(float('inf'))\n",
    "    R.append(float('inf'))\n",
    "    \n",
    "    while i + j < len(L) + len(R) - 2:\n",
    "        if L[i] < R[j]:\n",
    "            array.append(L[i])\n",
    "            i += 1\n",
    "        else:\n",
    "            array.append(R[j])\n",
    "            j += 1\n",
    "    return array\n",
    "\n",
    "def merge_sort(array):\n",
    "    L = []\n",
    "    R = []\n",
    "    \n",
    "    if len(array) > 3:\n",
    "        L = merge_sort(array[:len(array)//2])\n",
    "        R = merge_sort(array[len(array)//2:])\n",
    "        return merge(L,R)\n",
    "    \n",
    "    elif len(array) == 2:\n",
    "        if array[0] > array[1]:\n",
    "            array[0], array[1] = array[1], array[0]\n",
    "            return array  \n",
    "    else:       \n",
    "        return array\n",
    "\n",
    "random_array = random.sample(range(1, 10000), 100)\n",
    "merge_sort(random_array[:])"
   ]
  },
  {
   "cell_type": "code",
   "execution_count": 2,
   "metadata": {},
   "outputs": [
    {
     "data": {
      "text/plain": [
       "[15, 11, 14, 9, 10, 13, 7, 8, 4, 2, 5, 12, 6, 3, 1]"
      ]
     },
     "execution_count": 2,
     "metadata": {},
     "output_type": "execute_result"
    }
   ],
   "source": [
    "## Max Heapify\n",
    "\n",
    "def parent(i):\n",
    "    return (i-1)/2\n",
    "\n",
    "def left(i):\n",
    "    return 2*i + 1\n",
    "\n",
    "def right(i):\n",
    "    return 2*i + 2\n",
    "\n",
    "def max_heapify(A, i):\n",
    "    heap_size = len(A)-1\n",
    "    l = left(i)\n",
    "    r = right(i)\n",
    "    \n",
    "    if l <= heap_size and A[l] > A[i]:\n",
    "        largest = l\n",
    "    else:\n",
    "        largest = i\n",
    "        \n",
    "    if r <= heap_size and A[r] > A[largest]:\n",
    "        largest = r\n",
    "       \n",
    "    if largest != i:\n",
    "        A[i], A[largest] = A[largest], A[i]\n",
    "       \n",
    "        A = max_heapify(A, largest)\n",
    "        \n",
    "    return A\n",
    "\n",
    "## Build-Max-Heapify\n",
    "\n",
    "def build_max_heap(A):\n",
    "    heap_size = len(A)\n",
    "    for i in range(heap_size/2, -1, -1):\n",
    "        A = max_heapify(A, i)\n",
    "        \n",
    "    return A\n",
    "\n",
    "test_array = [1, 2, 3, 4, 5, 6, 7, 8, 9, 10, 11, 12, 13, 14, 15]\n",
    "build_max_heap(test_array[:])\n",
    "#[7, 15, 16, 21, 28, 29, 30, 31, 39, 49, 49, 76, 85, 85, 92]"
   ]
  },
  {
   "cell_type": "code",
   "execution_count": null,
   "metadata": {
    "collapsed": true
   },
   "outputs": [],
   "source": [
    "## Heap-push\n",
    "def heappush(a, item):\n",
    "    a.append(item)\n",
    "    \n",
    "    a = max_heapify(a, len(a))\n",
    "    return a\n",
    "\n",
    "#This should actually take the last item and then refix\n",
    "## Heap-pop\n",
    "def heap_pop(a):\n",
    "    max_item = a[0]\n",
    "    \n",
    "    a[0] = a.pop()\n",
    "    a = max_heapify(a, 0)\n",
    "    return a, max_item\n",
    "    \n",
    "## Heapify"
   ]
  },
  {
   "cell_type": "code",
   "execution_count": 46,
   "metadata": {},
   "outputs": [
    {
     "ename": "NameError",
     "evalue": "global name 'bubble' is not defined",
     "output_type": "error",
     "traceback": [
      "\u001b[0;31m---------------------------------------------------------------------------\u001b[0m",
      "\u001b[0;31mNameError\u001b[0m                                 Traceback (most recent call last)",
      "\u001b[0;32m<ipython-input-46-3838483803f3>\u001b[0m in \u001b[0;36m<module>\u001b[0;34m()\u001b[0m\n\u001b[1;32m     14\u001b[0m     \u001b[0mmerge_sort\u001b[0m\u001b[0;34m(\u001b[0m\u001b[0mrandom_array\u001b[0m\u001b[0;34m[\u001b[0m\u001b[0;34m:\u001b[0m\u001b[0;34m]\u001b[0m\u001b[0;34m,\u001b[0m\u001b[0;36m0\u001b[0m\u001b[0;34m,\u001b[0m\u001b[0mrand_arr_len\u001b[0m\u001b[0;34m)\u001b[0m\u001b[0;34m\u001b[0m\u001b[0m\n\u001b[1;32m     15\u001b[0m \u001b[0;34m\u001b[0m\u001b[0m\n\u001b[0;32m---> 16\u001b[0;31m \u001b[0;32mprint\u001b[0m \u001b[0;34m\"Bubble sort: \"\u001b[0m \u001b[0;34m+\u001b[0m \u001b[0mstr\u001b[0m\u001b[0;34m(\u001b[0m\u001b[0mtimeit\u001b[0m\u001b[0;34m.\u001b[0m\u001b[0mtimeit\u001b[0m\u001b[0;34m(\u001b[0m\u001b[0mbubble_timing\u001b[0m\u001b[0;34m,\u001b[0m \u001b[0mnumber\u001b[0m\u001b[0;34m=\u001b[0m\u001b[0;36m1\u001b[0m\u001b[0;34m)\u001b[0m\u001b[0;34m)\u001b[0m\u001b[0;34m\u001b[0m\u001b[0m\n\u001b[0m\u001b[1;32m     17\u001b[0m \u001b[0;32mprint\u001b[0m \u001b[0;34m\"Insertion sort: \"\u001b[0m \u001b[0;34m+\u001b[0m \u001b[0mstr\u001b[0m\u001b[0;34m(\u001b[0m\u001b[0mtimeit\u001b[0m\u001b[0;34m.\u001b[0m\u001b[0mtimeit\u001b[0m\u001b[0;34m(\u001b[0m\u001b[0minsertion_timing\u001b[0m\u001b[0;34m,\u001b[0m \u001b[0mnumber\u001b[0m\u001b[0;34m=\u001b[0m\u001b[0;36m1\u001b[0m\u001b[0;34m)\u001b[0m\u001b[0;34m)\u001b[0m\u001b[0;34m\u001b[0m\u001b[0m\n\u001b[1;32m     18\u001b[0m \u001b[0;32mprint\u001b[0m \u001b[0;34m\"Selection sort: \"\u001b[0m \u001b[0;34m+\u001b[0m \u001b[0mstr\u001b[0m\u001b[0;34m(\u001b[0m\u001b[0mtimeit\u001b[0m\u001b[0;34m.\u001b[0m\u001b[0mtimeit\u001b[0m\u001b[0;34m(\u001b[0m\u001b[0mselection_timing\u001b[0m\u001b[0;34m,\u001b[0m \u001b[0mnumber\u001b[0m\u001b[0;34m=\u001b[0m\u001b[0;36m1\u001b[0m\u001b[0;34m)\u001b[0m\u001b[0;34m)\u001b[0m\u001b[0;34m\u001b[0m\u001b[0m\n",
      "\u001b[0;32m/anaconda2/lib/python2.7/timeit.pyc\u001b[0m in \u001b[0;36mtimeit\u001b[0;34m(stmt, setup, timer, number)\u001b[0m\n\u001b[1;32m    235\u001b[0m            number=default_number):\n\u001b[1;32m    236\u001b[0m     \u001b[0;34m\"\"\"Convenience function to create Timer object and call timeit method.\"\"\"\u001b[0m\u001b[0;34m\u001b[0m\u001b[0m\n\u001b[0;32m--> 237\u001b[0;31m     \u001b[0;32mreturn\u001b[0m \u001b[0mTimer\u001b[0m\u001b[0;34m(\u001b[0m\u001b[0mstmt\u001b[0m\u001b[0;34m,\u001b[0m \u001b[0msetup\u001b[0m\u001b[0;34m,\u001b[0m \u001b[0mtimer\u001b[0m\u001b[0;34m)\u001b[0m\u001b[0;34m.\u001b[0m\u001b[0mtimeit\u001b[0m\u001b[0;34m(\u001b[0m\u001b[0mnumber\u001b[0m\u001b[0;34m)\u001b[0m\u001b[0;34m\u001b[0m\u001b[0m\n\u001b[0m\u001b[1;32m    238\u001b[0m \u001b[0;34m\u001b[0m\u001b[0m\n\u001b[1;32m    239\u001b[0m def repeat(stmt=\"pass\", setup=\"pass\", timer=default_timer,\n",
      "\u001b[0;32m/anaconda2/lib/python2.7/timeit.pyc\u001b[0m in \u001b[0;36mtimeit\u001b[0;34m(self, number)\u001b[0m\n\u001b[1;32m    200\u001b[0m         \u001b[0mgc\u001b[0m\u001b[0;34m.\u001b[0m\u001b[0mdisable\u001b[0m\u001b[0;34m(\u001b[0m\u001b[0;34m)\u001b[0m\u001b[0;34m\u001b[0m\u001b[0m\n\u001b[1;32m    201\u001b[0m         \u001b[0;32mtry\u001b[0m\u001b[0;34m:\u001b[0m\u001b[0;34m\u001b[0m\u001b[0m\n\u001b[0;32m--> 202\u001b[0;31m             \u001b[0mtiming\u001b[0m \u001b[0;34m=\u001b[0m \u001b[0mself\u001b[0m\u001b[0;34m.\u001b[0m\u001b[0minner\u001b[0m\u001b[0;34m(\u001b[0m\u001b[0mit\u001b[0m\u001b[0;34m,\u001b[0m \u001b[0mself\u001b[0m\u001b[0;34m.\u001b[0m\u001b[0mtimer\u001b[0m\u001b[0;34m)\u001b[0m\u001b[0;34m\u001b[0m\u001b[0m\n\u001b[0m\u001b[1;32m    203\u001b[0m         \u001b[0;32mfinally\u001b[0m\u001b[0;34m:\u001b[0m\u001b[0;34m\u001b[0m\u001b[0m\n\u001b[1;32m    204\u001b[0m             \u001b[0;32mif\u001b[0m \u001b[0mgcold\u001b[0m\u001b[0;34m:\u001b[0m\u001b[0;34m\u001b[0m\u001b[0m\n",
      "\u001b[0;32m/anaconda2/lib/python2.7/timeit.pyc\u001b[0m in \u001b[0;36minner\u001b[0;34m(_it, _timer, _func)\u001b[0m\n\u001b[1;32m     98\u001b[0m         \u001b[0m_t0\u001b[0m \u001b[0;34m=\u001b[0m \u001b[0m_timer\u001b[0m\u001b[0;34m(\u001b[0m\u001b[0;34m)\u001b[0m\u001b[0;34m\u001b[0m\u001b[0m\n\u001b[1;32m     99\u001b[0m         \u001b[0;32mfor\u001b[0m \u001b[0m_i\u001b[0m \u001b[0;32min\u001b[0m \u001b[0m_it\u001b[0m\u001b[0;34m:\u001b[0m\u001b[0;34m\u001b[0m\u001b[0m\n\u001b[0;32m--> 100\u001b[0;31m             \u001b[0m_func\u001b[0m\u001b[0;34m(\u001b[0m\u001b[0;34m)\u001b[0m\u001b[0;34m\u001b[0m\u001b[0m\n\u001b[0m\u001b[1;32m    101\u001b[0m         \u001b[0m_t1\u001b[0m \u001b[0;34m=\u001b[0m \u001b[0m_timer\u001b[0m\u001b[0;34m(\u001b[0m\u001b[0;34m)\u001b[0m\u001b[0;34m\u001b[0m\u001b[0m\n\u001b[1;32m    102\u001b[0m         \u001b[0;32mreturn\u001b[0m \u001b[0m_t1\u001b[0m \u001b[0;34m-\u001b[0m \u001b[0m_t0\u001b[0m\u001b[0;34m\u001b[0m\u001b[0m\n",
      "\u001b[0;32m<ipython-input-46-3838483803f3>\u001b[0m in \u001b[0;36mbubble_timing\u001b[0;34m()\u001b[0m\n\u001b[1;32m      3\u001b[0m \u001b[0;34m\u001b[0m\u001b[0m\n\u001b[1;32m      4\u001b[0m \u001b[0;32mdef\u001b[0m \u001b[0mbubble_timing\u001b[0m\u001b[0;34m(\u001b[0m\u001b[0;34m)\u001b[0m\u001b[0;34m:\u001b[0m\u001b[0;34m\u001b[0m\u001b[0m\n\u001b[0;32m----> 5\u001b[0;31m     \u001b[0mbubble\u001b[0m\u001b[0;34m(\u001b[0m\u001b[0mrandom_array\u001b[0m\u001b[0;34m[\u001b[0m\u001b[0;34m:\u001b[0m\u001b[0;34m]\u001b[0m\u001b[0;34m)\u001b[0m\u001b[0;34m\u001b[0m\u001b[0m\n\u001b[0m\u001b[1;32m      6\u001b[0m \u001b[0;32mdef\u001b[0m \u001b[0minsertion_timing\u001b[0m\u001b[0;34m(\u001b[0m\u001b[0;34m)\u001b[0m\u001b[0;34m:\u001b[0m\u001b[0;34m\u001b[0m\u001b[0m\n\u001b[1;32m      7\u001b[0m     \u001b[0marr_copy\u001b[0m \u001b[0;34m=\u001b[0m \u001b[0mrandom_array\u001b[0m\u001b[0;34m[\u001b[0m\u001b[0;34m:\u001b[0m\u001b[0;34m]\u001b[0m\u001b[0;34m\u001b[0m\u001b[0m\n",
      "\u001b[0;31mNameError\u001b[0m: global name 'bubble' is not defined"
     ]
    }
   ],
   "source": [
    "random_array = random.sample(range(1, 10000), 1000)\n",
    "rand_arr_len = len(random_array)\n",
    "\n",
    "def bubble_timing():\n",
    "    bubble(random_array[:])\n",
    "def insertion_timing():\n",
    "    arr_copy = random_array[:]\n",
    "    insertion(arr_copy)\n",
    "def selection_timing():\n",
    "    selection(random_array[:])\n",
    "def shell_timing():\n",
    "    shell_sort(random_array[:])\n",
    "def merge_timing():\n",
    "    merge_sort(random_array[:],0,rand_arr_len)\n",
    "    \n",
    "print \"Bubble sort: \" + str(timeit.timeit(bubble_timing, number=1))\n",
    "print \"Insertion sort: \" + str(timeit.timeit(insertion_timing, number=1))\n",
    "print \"Selection sort: \" + str(timeit.timeit(selection_timing, number=1))\n",
    "print \"Shell sort: \" + str(timeit.timeit(shell_timing, number=1))\n",
    "print \"Merge sort: \" + str(timeit.timeit(merge_timing, number=1))"
   ]
  },
  {
   "cell_type": "code",
   "execution_count": null,
   "metadata": {
    "collapsed": true
   },
   "outputs": [],
   "source": []
  },
  {
   "cell_type": "code",
   "execution_count": null,
   "metadata": {
    "collapsed": true
   },
   "outputs": [],
   "source": []
  },
  {
   "cell_type": "code",
   "execution_count": null,
   "metadata": {
    "collapsed": true
   },
   "outputs": [],
   "source": [
    "##Example of timeit further setup\n",
    "\n",
    "# compute binary search time\n",
    "def bubble_time():\n",
    "    SETUP_CODE = '''\n",
    "from __main__ import bubble'''\n",
    " \n",
    "    TEST_CODE = '''\n",
    "test_array = [40, 3, 5, 32, 22, 10, 8, 41, 14, 7, 8,\n",
    "                56, 65, 9, 2, 5, 6, 44, 65, 55, 43, 13,\n",
    "                32, 43, 22, 11, 54, 55, 37, 86, 79, 44]\n",
    "bubble(test_array)'''\n",
    "     \n",
    "    # timeit.repeat statement\n",
    "    times = timeit.timeit(setup = SETUP_CODE,\n",
    "                        stmt = TEST_CODE,\n",
    "                        number = 1)\n",
    "    \n",
    "    print('Search time: ' \"%.3G\" % (times))  \n",
    "    \n",
    "bubble_time()"
   ]
  }
 ],
 "metadata": {
  "kernelspec": {
   "display_name": "Python 2",
   "language": "python",
   "name": "python2"
  },
  "language_info": {
   "codemirror_mode": {
    "name": "ipython",
    "version": 2
   },
   "file_extension": ".py",
   "mimetype": "text/x-python",
   "name": "python",
   "nbconvert_exporter": "python",
   "pygments_lexer": "ipython2",
   "version": "2.7.14"
  }
 },
 "nbformat": 4,
 "nbformat_minor": 2
}
