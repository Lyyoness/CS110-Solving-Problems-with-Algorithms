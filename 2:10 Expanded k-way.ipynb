{
 "cells": [
  {
   "cell_type": "code",
   "execution_count": 12,
   "metadata": {
    "collapsed": true
   },
   "outputs": [],
   "source": [
    "import numpy as np\n",
    "import random as rnd\n",
    "import heapq"
   ]
  },
  {
   "cell_type": "code",
   "execution_count": null,
   "metadata": {
    "collapsed": true
   },
   "outputs": [],
   "source": [
    "##Insertion Sort\n",
    "\n",
    "def insertion_sort(array):\n",
    "    for j in range(1, len(array)): \n",
    "        key = array[j] \n",
    "        i = j - 1 \n",
    "        \n",
    "        while i >= 0 and array[i] > key: \n",
    "            array[i + 1] = array[i] \n",
    "            i -= 1 \n",
    "            \n",
    "        array[i + 1] = key\n",
    "        \n",
    "    return array"
   ]
  },
  {
   "cell_type": "code",
   "execution_count": null,
   "metadata": {
    "collapsed": true
   },
   "outputs": [],
   "source": [
    "## k-way Merge Sort\n",
    "\n",
    "def k_way_merge_sort(array, k):\n",
    "    # sublist_end?\n",
    "    if len(array) > 3*k:\n",
    "        end = len(array)//k\n",
    "    \n",
    "        # for cases where len(a)//k would round to 0\n",
    "        if end == 0:\n",
    "            end = 1\n",
    "\n",
    "            list_of_sublists = []\n",
    "\n",
    "            for i in range(k):\n",
    "                sublist = k_way_merge_sort(array[end*(i):end*(i+1)], k)\n",
    "                list_of_sublists.append(sublist)\n",
    "\n",
    "            array = [x for x in heapq.merge(*list_of_sublists)]\n",
    "\n",
    "    else:\n",
    "        array = insertion_sort(array)\n",
    "\n",
    "    return array"
   ]
  },
  {
   "cell_type": "code",
   "execution_count": 262,
   "metadata": {},
   "outputs": [],
   "source": [
    "def merge_all(list_of_sublists):\n",
    "    sorted_list = []\n",
    "    len_list_of_sublists = 0\n",
    "    \n",
    "    for lst in list_of_sublists:\n",
    "        for item in lst:\n",
    "            len_list_of_sublists += 1\n",
    "    \n",
    "    for j in range(0, len_list_of_sublists):\n",
    "        current_best = 0\n",
    "        \n",
    "        for i in range(0, len(list_of_sublists)):\n",
    "            if list_of_sublists[i][0] < list_of_sublists[current_best][0]:\n",
    "                current_best = i\n",
    "\n",
    "        sorted_list = np.append(sorted_list, list_of_sublists[current_best][0])\n",
    "        list_of_sublists[current_best] = np.delete(list_of_sublists[current_best], 0)\n",
    "\n",
    "        if not list_of_sublists[current_best].any():\n",
    "            list_of_sublists[current_best] = np.append(list_of_sublists[current_best], float('inf'))\n",
    "        \n",
    "    return sorted_list"
   ]
  },
  {
   "cell_type": "code",
   "execution_count": 263,
   "metadata": {
    "collapsed": true
   },
   "outputs": [],
   "source": [
    "def two_way_merge(L,R):\n",
    "    i = 0\n",
    "    j = 0\n",
    "    array = np.array([])\n",
    "    L = np.append(L, float('inf'))\n",
    "    R = np.append(R, float('inf'))\n",
    "    \n",
    "    while i + j < len(L) + len(R) - 2:\n",
    "        if L[i] < R[j]:\n",
    "            array = np.append(array, L[i])\n",
    "            i += 1\n",
    "            \n",
    "        else:\n",
    "            array = np.append(array, R[j])\n",
    "            j += 1\n",
    "            \n",
    "    return array"
   ]
  },
  {
   "cell_type": "code",
   "execution_count": 264,
   "metadata": {
    "collapsed": true
   },
   "outputs": [],
   "source": [
    "def merge_iterative(list_of_sublists):\n",
    "    L = list_of_sublists[0]\n",
    "    R = []\n",
    "    \n",
    "    for i in range(len(list_of_sublists) - 1):\n",
    "        R = list_of_sublists[i + 1]\n",
    "        L = two_way_merge(L, R)\n",
    "        \n",
    "    return L  \n"
   ]
  },
  {
   "cell_type": "code",
   "execution_count": 265,
   "metadata": {},
   "outputs": [
    {
     "name": "stdout",
     "output_type": "stream",
     "text": [
      "k: [7]\n",
      "subl_len: [96]\n",
      "The list is the right length.\n",
      "The list is sorted.\n"
     ]
    }
   ],
   "source": [
    "def merge_test(merge_fun, iterations):\n",
    "    \n",
    "    #pick ks & length of sublists\n",
    "    for i in range(iterations):\n",
    "        k = np.random.randint(1, 10, 1)\n",
    "        print \"k: \" + str(k)\n",
    "        len_subl = np.random.randint(1, 100, 1)\n",
    "        print \"subl_len: \" + str(len_subl)\n",
    "        \n",
    "        total_subl = []\n",
    "        \n",
    "        #populate k sublists of length len_subl\n",
    "        for j in range(k):\n",
    "            sublist = np.random.randint(0, 1000, len_subl)\n",
    "            total_subl.append(sublist)\n",
    "            \n",
    "        #sort each sublist\n",
    "        for lst in total_subl:\n",
    "            lst.sort()\n",
    "        \n",
    "        #merge the sublists\n",
    "        merged_list = merge_fun(total_subl)\n",
    "\n",
    "        #test the function for length and sorted\n",
    "        merged_list = [x for x in merged_list]\n",
    "\n",
    "        if len(merged_list) == (len_subl * k):\n",
    "            print \"The list is the right length.\"\n",
    "        else:\n",
    "            print \"No right length. No good.\"\n",
    "        \n",
    "        if sorted(merged_list) == merged_list:\n",
    "            print \"The list is sorted.\"\n",
    "        else:\n",
    "            print \"No sort. No good.\"\n",
    "\n",
    "def test_merge(list_of_sublists):\n",
    "    array = [x for x in heapq.merge(*list_of_sublists)]\n",
    "    \n",
    "    return array\n",
    "            \n",
    "merge_test(merge_all, 1)"
   ]
  }
 ],
 "metadata": {
  "kernelspec": {
   "display_name": "Python 2",
   "language": "python",
   "name": "python2"
  },
  "language_info": {
   "codemirror_mode": {
    "name": "ipython",
    "version": 2
   },
   "file_extension": ".py",
   "mimetype": "text/x-python",
   "name": "python",
   "nbconvert_exporter": "python",
   "pygments_lexer": "ipython2",
   "version": "2.7.14"
  }
 },
 "nbformat": 4,
 "nbformat_minor": 2
}
